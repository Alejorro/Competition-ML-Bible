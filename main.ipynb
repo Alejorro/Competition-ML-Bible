{
 "nbformat": 4,
 "nbformat_minor": 2,
 "metadata": {
  "language_info": {
   "name": "python",
   "codemirror_mode": {
    "name": "ipython",
    "version": 3
   },
   "version": "3.6.9-final"
  },
  "orig_nbformat": 2,
  "file_extension": ".py",
  "mimetype": "text/x-python",
  "name": "python",
  "npconvert_exporter": "python",
  "pygments_lexer": "ipython3",
  "version": 3,
  "kernelspec": {
   "name": "python36964bit393d81eb15b54b0093ea31921d80c86d",
   "display_name": "Python 3.6.9 64-bit"
  }
 },
 "cells": [
  {
   "cell_type": "markdown",
   "metadata": {},
   "source": [
    "## Importar Liberías"
   ]
  },
  {
   "cell_type": "markdown",
   "metadata": {},
   "source": [
    "**Librerías básicas**"
   ]
  },
  {
   "cell_type": "code",
   "execution_count": 401,
   "metadata": {},
   "outputs": [],
   "source": [
    "import pandas as pd"
   ]
  },
  {
   "cell_type": "markdown",
   "metadata": {},
   "source": [
    "**Módulos locales**"
   ]
  },
  {
   "cell_type": "code",
   "execution_count": 402,
   "metadata": {},
   "outputs": [],
   "source": [
    "from Src.cleaner import *\n",
    "from Src.featureSelection import *"
   ]
  },
  {
   "cell_type": "markdown",
   "metadata": {},
   "source": [
    "**Librerías de apoyo**"
   ]
  },
  {
   "cell_type": "code",
   "execution_count": 478,
   "metadata": {},
   "outputs": [],
   "source": [
    "from sklearn.base import BaseEstimator, TransformerMixin\n",
    "from sklearn.preprocessing import StandardScaler, Normalizer\n",
    "from sklearn.pipeline import make_pipeline\n",
    "\n",
    "import webbrowser"
   ]
  },
  {
   "cell_type": "markdown",
   "metadata": {},
   "source": [
    "**Librerías de Machine Learning**"
   ]
  },
  {
   "cell_type": "code",
   "execution_count": 404,
   "metadata": {},
   "outputs": [
    {
     "name": "stdout",
     "output_type": "stream",
     "text": "Checking whether there is an H2O instance running at http://localhost:54321. connected.\n"
    },
    {
     "data": {
      "text/html": "<div style=\"overflow:auto\"><table style=\"width:50%\"><tr><td>H2O cluster uptime:</td>\n<td>1 hour 21 mins</td></tr>\n<tr><td>H2O cluster timezone:</td>\n<td>Europe/Madrid</td></tr>\n<tr><td>H2O data parsing timezone:</td>\n<td>UTC</td></tr>\n<tr><td>H2O cluster version:</td>\n<td>3.28.0.3</td></tr>\n<tr><td>H2O cluster version age:</td>\n<td>26 days </td></tr>\n<tr><td>H2O cluster name:</td>\n<td>H2O_from_python_alex_7b22ja</td></tr>\n<tr><td>H2O cluster total nodes:</td>\n<td>1</td></tr>\n<tr><td>H2O cluster free memory:</td>\n<td>7.906 Gb</td></tr>\n<tr><td>H2O cluster total cores:</td>\n<td>8</td></tr>\n<tr><td>H2O cluster allowed cores:</td>\n<td>8</td></tr>\n<tr><td>H2O cluster status:</td>\n<td>locked, healthy</td></tr>\n<tr><td>H2O connection url:</td>\n<td>http://localhost:54321</td></tr>\n<tr><td>H2O connection proxy:</td>\n<td>{'http': None, 'https': None}</td></tr>\n<tr><td>H2O internal security:</td>\n<td>False</td></tr>\n<tr><td>H2O API Extensions:</td>\n<td>Amazon S3, XGBoost, Algos, AutoML, Core V3, TargetEncoder, Core V4</td></tr>\n<tr><td>Python version:</td>\n<td>3.6.9 final</td></tr></table></div>",
      "text/plain": "--------------------------  ------------------------------------------------------------------\nH2O cluster uptime:         1 hour 21 mins\nH2O cluster timezone:       Europe/Madrid\nH2O data parsing timezone:  UTC\nH2O cluster version:        3.28.0.3\nH2O cluster version age:    26 days\nH2O cluster name:           H2O_from_python_alex_7b22ja\nH2O cluster total nodes:    1\nH2O cluster free memory:    7.906 Gb\nH2O cluster total cores:    8\nH2O cluster allowed cores:  8\nH2O cluster status:         locked, healthy\nH2O connection url:         http://localhost:54321\nH2O connection proxy:       {'http': None, 'https': None}\nH2O internal security:      False\nH2O API Extensions:         Amazon S3, XGBoost, Algos, AutoML, Core V3, TargetEncoder, Core V4\nPython version:             3.6.9 final\n--------------------------  ------------------------------------------------------------------"
     },
     "metadata": {},
     "output_type": "display_data"
    }
   ],
   "source": [
    "import h2o\n",
    "h2o.init(nthreads = -1, max_mem_size = 8)\n",
    "\n",
    "from h2o.automl import H2OAutoML\n",
    "\n",
    "from h2o.estimators.random_forest import H2ORandomForestEstimator\n",
    "from h2o.estimators.gbm import H2OGradientBoostingEstimator\n",
    "from h2o.estimators.deeplearning import H2ODeepLearningEstimator\n",
    "\n",
    "from h2o.estimators.glm import H2OGeneralizedLinearEstimator"
   ]
  },
  {
   "cell_type": "markdown",
   "metadata": {},
   "source": [
    "## Establecer Variables principales del proyecto"
   ]
  },
  {
   "cell_type": "code",
   "execution_count": 449,
   "metadata": {},
   "outputs": [],
   "source": [
    "y = \"author\"\n",
    "\n",
    "model_path = \"\"\n",
    "\n",
    "trainSet = \"Inputs/training_dataset.csv\"\n",
    "\n",
    "inputTest = \"Inputs/test_dataset.csv\"\n",
    "\n",
    "outputTest = \"Outputs/bible_cleaned_test(V3).csv\"\n",
    "\n",
    "submission = \"Outputs/submission.csv\"\n"
   ]
  },
  {
   "cell_type": "markdown",
   "metadata": {},
   "source": [
    "## Elegir modelo a aplicar"
   ]
  },
  {
   "cell_type": "code",
   "execution_count": 450,
   "metadata": {},
   "outputs": [],
   "source": [
    "model = 4"
   ]
  },
  {
   "cell_type": "markdown",
   "metadata": {},
   "source": [
    "## Limpieza de datos"
   ]
  },
  {
   "cell_type": "markdown",
   "metadata": {},
   "source": [
    "**Ver procedimiento de limpieza detallado en documento \"cleaner.ipynb\" en este mismo repositorio**"
   ]
  },
  {
   "cell_type": "code",
   "execution_count": 406,
   "metadata": {},
   "outputs": [],
   "source": [
    "df = pd.read_csv(trainSet)"
   ]
  },
  {
   "cell_type": "code",
   "execution_count": 407,
   "metadata": {},
   "outputs": [
    {
     "data": {
      "text/html": "<div>\n<style scoped>\n    .dataframe tbody tr th:only-of-type {\n        vertical-align: middle;\n    }\n\n    .dataframe tbody tr th {\n        vertical-align: top;\n    }\n\n    .dataframe thead th {\n        text-align: right;\n    }\n</style>\n<table border=\"1\" class=\"dataframe\">\n  <thead>\n    <tr style=\"text-align: right;\">\n      <th></th>\n      <th>id</th>\n      <th>0</th>\n      <th>1</th>\n      <th>2</th>\n      <th>3</th>\n      <th>4</th>\n      <th>5</th>\n      <th>6</th>\n      <th>7</th>\n      <th>8</th>\n      <th>9</th>\n      <th>author</th>\n    </tr>\n  </thead>\n  <tbody>\n    <tr>\n      <th>0</th>\n      <td>0</td>\n      <td>0.142636</td>\n      <td>0.431070</td>\n      <td>0.032912</td>\n      <td>-0.486796</td>\n      <td>0.261718</td>\n      <td>-1.013906</td>\n      <td>-0.081827</td>\n      <td>0.330352</td>\n      <td>0.438262</td>\n      <td>-0.761088</td>\n      <td>Ubuntius</td>\n    </tr>\n    <tr>\n      <th>1</th>\n      <td>1</td>\n      <td>0.019197</td>\n      <td>0.525284</td>\n      <td>0.068476</td>\n      <td>0.166658</td>\n      <td>0.261718</td>\n      <td>0.231839</td>\n      <td>0.635431</td>\n      <td>0.133209</td>\n      <td>0.313536</td>\n      <td>-0.002374</td>\n      <td>Philippus</td>\n    </tr>\n    <tr>\n      <th>2</th>\n      <td>2</td>\n      <td>0.093260</td>\n      <td>-0.087108</td>\n      <td>-2.268081</td>\n      <td>-0.164963</td>\n      <td>0.261718</td>\n      <td>1.477585</td>\n      <td>0.635431</td>\n      <td>-0.370641</td>\n      <td>0.126447</td>\n      <td>1.078357</td>\n      <td>Marcus</td>\n    </tr>\n  </tbody>\n</table>\n</div>",
      "text/plain": "   id         0         1         2         3         4         5         6  \\\n0   0  0.142636  0.431070  0.032912 -0.486796  0.261718 -1.013906 -0.081827   \n1   1  0.019197  0.525284  0.068476  0.166658  0.261718  0.231839  0.635431   \n2   2  0.093260 -0.087108 -2.268081 -0.164963  0.261718  1.477585  0.635431   \n\n          7         8         9     author  \n0  0.330352  0.438262 -0.761088   Ubuntius  \n1  0.133209  0.313536 -0.002374  Philippus  \n2 -0.370641  0.126447  1.078357     Marcus  "
     },
     "execution_count": 407,
     "metadata": {},
     "output_type": "execute_result"
    }
   ],
   "source": [
    "df.head(3)"
   ]
  },
  {
   "cell_type": "code",
   "execution_count": 408,
   "metadata": {},
   "outputs": [],
   "source": [
    "class cleanBible(TransformerMixin):\n",
    "    def __init__(self):\n",
    "        self.features =[\"id\", \"0\",\"1\",\"2\",\"3\",\"4\",\"5\",\"6\",\"7\",\"8\",\"9\",\"author\"]\n",
    "    \n",
    "    def fit(self, df):\n",
    "        #Iniciamos limpieza\n",
    "        X = df[self.features]\n",
    "        X = df.drop(columns=[\"id\",\"author\"], axis=1)\n",
    "        self.X = X\n",
    "        self.cols = self.X.columns\n",
    "        # self.X = pd.get_dummies(X)\n",
    "       \n",
    "        \n",
    "        return self\n",
    "    \n",
    "    def transform(self, X):\n",
    "        return self.X"
   ]
  },
  {
   "cell_type": "code",
   "execution_count": 409,
   "metadata": {},
   "outputs": [],
   "source": [
    "cleaner = cleanBible()\n",
    "pipe = make_pipeline(*[\n",
    "    cleaner,\n",
    "    #StandardScaler(),\n",
    "    #Normalizer(),\n",
    "])"
   ]
  },
  {
   "cell_type": "code",
   "execution_count": 410,
   "metadata": {},
   "outputs": [
    {
     "data": {
      "text/html": "<div>\n<style scoped>\n    .dataframe tbody tr th:only-of-type {\n        vertical-align: middle;\n    }\n\n    .dataframe tbody tr th {\n        vertical-align: top;\n    }\n\n    .dataframe thead th {\n        text-align: right;\n    }\n</style>\n<table border=\"1\" class=\"dataframe\">\n  <thead>\n    <tr style=\"text-align: right;\">\n      <th></th>\n      <th>0</th>\n      <th>1</th>\n      <th>2</th>\n      <th>3</th>\n      <th>4</th>\n      <th>5</th>\n      <th>6</th>\n      <th>7</th>\n      <th>8</th>\n      <th>9</th>\n      <th>author</th>\n    </tr>\n  </thead>\n  <tbody>\n    <tr>\n      <th>0</th>\n      <td>0.142636</td>\n      <td>0.431070</td>\n      <td>0.032912</td>\n      <td>-0.486796</td>\n      <td>0.261718</td>\n      <td>-1.013906</td>\n      <td>-0.081827</td>\n      <td>0.330352</td>\n      <td>0.438262</td>\n      <td>-0.761088</td>\n      <td>Ubuntius</td>\n    </tr>\n    <tr>\n      <th>1</th>\n      <td>0.019197</td>\n      <td>0.525284</td>\n      <td>0.068476</td>\n      <td>0.166658</td>\n      <td>0.261718</td>\n      <td>0.231839</td>\n      <td>0.635431</td>\n      <td>0.133209</td>\n      <td>0.313536</td>\n      <td>-0.002374</td>\n      <td>Philippus</td>\n    </tr>\n    <tr>\n      <th>2</th>\n      <td>0.093260</td>\n      <td>-0.087108</td>\n      <td>-2.268081</td>\n      <td>-0.164963</td>\n      <td>0.261718</td>\n      <td>1.477585</td>\n      <td>0.635431</td>\n      <td>-0.370641</td>\n      <td>0.126447</td>\n      <td>1.078357</td>\n      <td>Marcus</td>\n    </tr>\n  </tbody>\n</table>\n</div>",
      "text/plain": "          0         1         2         3         4         5         6  \\\n0  0.142636  0.431070  0.032912 -0.486796  0.261718 -1.013906 -0.081827   \n1  0.019197  0.525284  0.068476  0.166658  0.261718  0.231839  0.635431   \n2  0.093260 -0.087108 -2.268081 -0.164963  0.261718  1.477585  0.635431   \n\n          7         8         9     author  \n0  0.330352  0.438262 -0.761088   Ubuntius  \n1  0.133209  0.313536 -0.002374  Philippus  \n2 -0.370641  0.126447  1.078357     Marcus  "
     },
     "execution_count": 410,
     "metadata": {},
     "output_type": "execute_result"
    }
   ],
   "source": [
    "X = pipe.fit_transform(df)\n",
    "X= pd.DataFrame(X, columns=cleaner.cols)\n",
    "X = X.join(df[f\"{y}\"])\n",
    "pd.options.display.max_columns =28\n",
    "X.head(3)"
   ]
  },
  {
   "cell_type": "code",
   "execution_count": 411,
   "metadata": {},
   "outputs": [],
   "source": [
    "df_export = X.copy()\n",
    "df_export.to_csv(\"Outputs/bible_cleaned(V1).csv\", index=False)"
   ]
  },
  {
   "cell_type": "markdown",
   "metadata": {},
   "source": [
    "## Transformación de dataset"
   ]
  },
  {
   "cell_type": "code",
   "execution_count": 412,
   "metadata": {},
   "outputs": [
    {
     "name": "stdout",
     "output_type": "stream",
     "text": "Parse progress: |█████████████████████████████████████████████████████████| 100%\n"
    }
   ],
   "source": [
    "loan_csv = \"Outputs/bible_cleaned(V1).csv\"\n",
    "\n",
    "data = h2o.import_file(loan_csv, header=1) "
   ]
  },
  {
   "cell_type": "code",
   "execution_count": 413,
   "metadata": {},
   "outputs": [
    {
     "data": {
      "text/plain": "(12017, 11)"
     },
     "execution_count": 413,
     "metadata": {},
     "output_type": "execute_result"
    }
   ],
   "source": [
    "data.shape"
   ]
  },
  {
   "cell_type": "code",
   "execution_count": 414,
   "metadata": {},
   "outputs": [
    {
     "data": {
      "text/html": "<table>\n<thead>\n<tr><th style=\"text-align: right;\">       0</th><th style=\"text-align: right;\">        1</th><th style=\"text-align: right;\">        2</th><th style=\"text-align: right;\">        3</th><th style=\"text-align: right;\">       4</th><th style=\"text-align: right;\">        5</th><th style=\"text-align: right;\">        6</th><th style=\"text-align: right;\">        7</th><th style=\"text-align: right;\">       8</th><th style=\"text-align: right;\">        9</th><th>author   </th></tr>\n</thead>\n<tbody>\n<tr><td style=\"text-align: right;\">0.142636</td><td style=\"text-align: right;\"> 0.43107 </td><td style=\"text-align: right;\"> 0.032912</td><td style=\"text-align: right;\">-0.486796</td><td style=\"text-align: right;\">0.261718</td><td style=\"text-align: right;\">-1.01391 </td><td style=\"text-align: right;\">-0.081827</td><td style=\"text-align: right;\"> 0.330352</td><td style=\"text-align: right;\">0.438262</td><td style=\"text-align: right;\">-0.761088</td><td>Ubuntius </td></tr>\n<tr><td style=\"text-align: right;\">0.019197</td><td style=\"text-align: right;\"> 0.525284</td><td style=\"text-align: right;\"> 0.068476</td><td style=\"text-align: right;\"> 0.166658</td><td style=\"text-align: right;\">0.261718</td><td style=\"text-align: right;\"> 0.231839</td><td style=\"text-align: right;\"> 0.635431</td><td style=\"text-align: right;\"> 0.133209</td><td style=\"text-align: right;\">0.313536</td><td style=\"text-align: right;\">-0.002374</td><td>Philippus</td></tr>\n<tr><td style=\"text-align: right;\">0.09326 </td><td style=\"text-align: right;\">-0.087108</td><td style=\"text-align: right;\">-2.26808 </td><td style=\"text-align: right;\">-0.164963</td><td style=\"text-align: right;\">0.261718</td><td style=\"text-align: right;\"> 1.47758 </td><td style=\"text-align: right;\"> 0.635431</td><td style=\"text-align: right;\">-0.370641</td><td style=\"text-align: right;\">0.126447</td><td style=\"text-align: right;\"> 1.07836 </td><td>Marcus   </td></tr>\n</tbody>\n</table>"
     },
     "metadata": {},
     "output_type": "display_data"
    },
    {
     "data": {
      "text/plain": ""
     },
     "execution_count": 414,
     "metadata": {},
     "output_type": "execute_result"
    }
   ],
   "source": [
    "data.head(3)"
   ]
  },
  {
   "cell_type": "markdown",
   "metadata": {},
   "source": [
    "## Partición de los datos"
   ]
  },
  {
   "cell_type": "code",
   "execution_count": 415,
   "metadata": {},
   "outputs": [],
   "source": [
    "splits = data.split_frame(ratios=[0.7, 0.15], seed=1)  \n",
    "\n",
    "train = splits[0]\n",
    "valid = splits[1]\n",
    "test = splits[2]"
   ]
  },
  {
   "cell_type": "code",
   "execution_count": 416,
   "metadata": {},
   "outputs": [
    {
     "name": "stdout",
     "output_type": "stream",
     "text": "8451\n1792\n1774\n"
    }
   ],
   "source": [
    "print(train.nrow)\n",
    "print(valid.nrow)\n",
    "print(test.nrow)"
   ]
  },
  {
   "cell_type": "markdown",
   "metadata": {},
   "source": [
    "## Extracción de Features"
   ]
  },
  {
   "cell_type": "code",
   "execution_count": 417,
   "metadata": {},
   "outputs": [],
   "source": [
    "y = 'author'\n",
    "x = list(data.columns)\n",
    "\n",
    "x.remove(y)"
   ]
  },
  {
   "cell_type": "code",
   "execution_count": 418,
   "metadata": {},
   "outputs": [
    {
     "data": {
      "text/plain": "['0', '1', '2', '3', '4', '5', '6', '7', '8', '9']"
     },
     "execution_count": 418,
     "metadata": {},
     "output_type": "execute_result"
    }
   ],
   "source": [
    "x"
   ]
  },
  {
   "cell_type": "markdown",
   "metadata": {},
   "source": [
    "## Machine Learning!!"
   ]
  },
  {
   "cell_type": "code",
   "execution_count": 419,
   "metadata": {},
   "outputs": [],
   "source": [
    "if model == 0:\n",
    "\n",
    "    rf_fit0 = H2OGeneralizedLinearEstimator(family='multinomial', model_id='rf_fit0')\n",
    "    rf_fit0.train(x=x, y=y, training_frame=train)"
   ]
  },
  {
   "cell_type": "code",
   "execution_count": 420,
   "metadata": {},
   "outputs": [],
   "source": [
    "if model == 1:\n",
    "\n",
    "    rf_fit1 = H2ODeepLearningEstimator(model_id='rf_fit1', seed=1)\n",
    "    rf_fit1.train(x=x, y=y, training_frame=train)\n"
   ]
  },
  {
   "cell_type": "code",
   "execution_count": 421,
   "metadata": {},
   "outputs": [],
   "source": [
    "if model == 2:\n",
    "    rf_fit2 = H2OGradientBoostingEstimator(model_id='gbm_fit3', \n",
    "                                            ntrees=500, \n",
    "                                            score_tree_interval=5,     \n",
    "                                            stopping_rounds=3,         \n",
    "                                            stopping_metric='AUC',     \n",
    "                                            stopping_tolerance=0.0005, \n",
    "                                            seed=1)\n",
    "    rf_fit2.train(x=x, y=y, training_frame=train, validation_frame=valid)"
   ]
  },
  {
   "cell_type": "code",
   "execution_count": 422,
   "metadata": {},
   "outputs": [
    {
     "name": "stdout",
     "output_type": "stream",
     "text": "drf Model Build progress: |███████████████████████████████████████████████| 100%\n"
    }
   ],
   "source": [
    "if model == 3:\n",
    "\n",
    "    rf_fit3 = H2ORandomForestEstimator(model_id='rf_fit3', ntrees=200, nfolds=2, seed=1)\n",
    "    rf_fit3.train(x=x, y=y, training_frame=data)"
   ]
  },
  {
   "cell_type": "code",
   "execution_count": null,
   "metadata": {},
   "outputs": [],
   "source": [
    "if model == 4:\n",
    "    saved_model = h2o.load_model(model_path)"
   ]
  },
  {
   "cell_type": "markdown",
   "metadata": {},
   "source": [
    "## Métricas de rendimiento"
   ]
  },
  {
   "cell_type": "code",
   "execution_count": 424,
   "metadata": {},
   "outputs": [],
   "source": [
    "if model == 0:\n",
    "    rf_perf0 = rf_fit0.model_performance(test)\n",
    "    print(rf_perf0)\n",
    "if model == 1:\n",
    "    rf_perf1 = rf_fit1.model_performance(test)\n",
    "    print(rf_perf1)\n",
    "if model == 2:\n",
    "    rf_perf2 = rf_fit2.model_performance(test)\n",
    "    print(rf_perf2)\n",
    "if model == 3:\n",
    "    rf_perf3 = rf_fit3.model_performance(test)\n",
    "    print(rf_perf3)\n",
    "if model == 4:\n",
    "    rf_perf4 = rf_fit4.model_performance(test)"
   ]
  },
  {
   "cell_type": "markdown",
   "metadata": {},
   "source": [
    "## Generación de resultado final"
   ]
  },
  {
   "cell_type": "markdown",
   "metadata": {},
   "source": [
    "**Importación de dataset de testeo**\n"
   ]
  },
  {
   "cell_type": "code",
   "execution_count": 464,
   "metadata": {},
   "outputs": [
    {
     "data": {
      "text/html": "<div>\n<style scoped>\n    .dataframe tbody tr th:only-of-type {\n        vertical-align: middle;\n    }\n\n    .dataframe tbody tr th {\n        vertical-align: top;\n    }\n\n    .dataframe thead th {\n        text-align: right;\n    }\n</style>\n<table border=\"1\" class=\"dataframe\">\n  <thead>\n    <tr style=\"text-align: right;\">\n      <th></th>\n      <th>id</th>\n      <th>0</th>\n      <th>1</th>\n      <th>2</th>\n      <th>3</th>\n      <th>4</th>\n      <th>5</th>\n      <th>6</th>\n      <th>7</th>\n      <th>8</th>\n      <th>9</th>\n    </tr>\n  </thead>\n  <tbody>\n    <tr>\n      <th>0</th>\n      <td>0</td>\n      <td>0.019197</td>\n      <td>0.038511</td>\n      <td>0.192950</td>\n      <td>0.323367</td>\n      <td>0.261718</td>\n      <td>-0.100360</td>\n      <td>0.106925</td>\n      <td>0.463833</td>\n      <td>0.064084</td>\n      <td>-0.025146</td>\n    </tr>\n    <tr>\n      <th>1</th>\n      <td>1</td>\n      <td>0.006853</td>\n      <td>0.462474</td>\n      <td>-0.016878</td>\n      <td>0.649795</td>\n      <td>-1.347089</td>\n      <td>-0.307984</td>\n      <td>-0.119577</td>\n      <td>0.855597</td>\n      <td>0.375899</td>\n      <td>-0.092040</td>\n    </tr>\n  </tbody>\n</table>\n</div>",
      "text/plain": "   id         0         1         2         3         4         5         6  \\\n0   0  0.019197  0.038511  0.192950  0.323367  0.261718 -0.100360  0.106925   \n1   1  0.006853  0.462474 -0.016878  0.649795 -1.347089 -0.307984 -0.119577   \n\n          7         8         9  \n0  0.463833  0.064084 -0.025146  \n1  0.855597  0.375899 -0.092040  "
     },
     "execution_count": 464,
     "metadata": {},
     "output_type": "execute_result"
    }
   ],
   "source": [
    "data_test = pd.read_csv(inputTest)\n",
    "data_test.head(2)\n"
   ]
  },
  {
   "cell_type": "markdown",
   "metadata": {},
   "source": [
    "**Limpieza de dataset**"
   ]
  },
  {
   "cell_type": "code",
   "execution_count": 472,
   "metadata": {},
   "outputs": [],
   "source": [
    "class cleanBible_test(TransformerMixin):\n",
    "    def __init__(self):\n",
    "        self.features =[\"id\", \"0\",\"1\",\"2\",\"3\",\"4\",\"5\",\"6\",\"7\",\"8\",\"9\"]\n",
    "    \n",
    "    def fit(self, df):\n",
    "        #Iniciamos limpieza\n",
    "        X = df[self.features]\n",
    "        X = df.drop(columns=[\"id\"], axis=1)\n",
    "        self.X = X\n",
    "        self.cols = self.X.columns\n",
    "        # self.X = pd.get_dummies(X)\n",
    "       \n",
    "        \n",
    "        return self\n",
    "    \n",
    "    def transform(self, X):\n",
    "        return self.X"
   ]
  },
  {
   "cell_type": "code",
   "execution_count": 473,
   "metadata": {},
   "outputs": [],
   "source": [
    "cleaner = cleanBible_test()\n",
    "pipe = make_pipeline(*[\n",
    "    cleaner,\n",
    "    #StandardScaler(),\n",
    "    #Normalizer(),\n",
    "])"
   ]
  },
  {
   "cell_type": "code",
   "execution_count": 474,
   "metadata": {},
   "outputs": [
    {
     "data": {
      "text/html": "<div>\n<style scoped>\n    .dataframe tbody tr th:only-of-type {\n        vertical-align: middle;\n    }\n\n    .dataframe tbody tr th {\n        vertical-align: top;\n    }\n\n    .dataframe thead th {\n        text-align: right;\n    }\n</style>\n<table border=\"1\" class=\"dataframe\">\n  <thead>\n    <tr style=\"text-align: right;\">\n      <th></th>\n      <th>0</th>\n      <th>1</th>\n      <th>2</th>\n      <th>3</th>\n      <th>4</th>\n      <th>5</th>\n      <th>6</th>\n      <th>7</th>\n      <th>8</th>\n      <th>9</th>\n    </tr>\n  </thead>\n  <tbody>\n    <tr>\n      <th>0</th>\n      <td>0.019197</td>\n      <td>0.038511</td>\n      <td>0.192950</td>\n      <td>0.323367</td>\n      <td>0.261718</td>\n      <td>-0.100360</td>\n      <td>0.106925</td>\n      <td>0.463833</td>\n      <td>0.064084</td>\n      <td>-0.025146</td>\n    </tr>\n    <tr>\n      <th>1</th>\n      <td>0.006853</td>\n      <td>0.462474</td>\n      <td>-0.016878</td>\n      <td>0.649795</td>\n      <td>-1.347089</td>\n      <td>-0.307984</td>\n      <td>-0.119577</td>\n      <td>0.855597</td>\n      <td>0.375899</td>\n      <td>-0.092040</td>\n    </tr>\n    <tr>\n      <th>2</th>\n      <td>0.229043</td>\n      <td>-0.369751</td>\n      <td>0.484575</td>\n      <td>0.250174</td>\n      <td>0.261718</td>\n      <td>-0.017310</td>\n      <td>0.446679</td>\n      <td>0.232984</td>\n      <td>-0.123005</td>\n      <td>-0.126856</td>\n    </tr>\n  </tbody>\n</table>\n</div>",
      "text/plain": "          0         1         2         3         4         5         6  \\\n0  0.019197  0.038511  0.192950  0.323367  0.261718 -0.100360  0.106925   \n1  0.006853  0.462474 -0.016878  0.649795 -1.347089 -0.307984 -0.119577   \n2  0.229043 -0.369751  0.484575  0.250174  0.261718 -0.017310  0.446679   \n\n          7         8         9  \n0  0.463833  0.064084 -0.025146  \n1  0.855597  0.375899 -0.092040  \n2  0.232984 -0.123005 -0.126856  "
     },
     "execution_count": 474,
     "metadata": {},
     "output_type": "execute_result"
    }
   ],
   "source": [
    "X = pipe.fit_transform(data_test)\n",
    "X= pd.DataFrame(X, columns=cleaner.cols)\n",
    "pd.options.display.max_columns =28\n",
    "X.head(3)"
   ]
  },
  {
   "cell_type": "code",
   "execution_count": 476,
   "metadata": {},
   "outputs": [],
   "source": [
    "df_export = X.copy()\n",
    "df_export.to_csv(outputTest, index=False)"
   ]
  },
  {
   "cell_type": "markdown",
   "metadata": {},
   "source": [
    "**Transformación a dataframe de H2O**"
   ]
  },
  {
   "cell_type": "code",
   "execution_count": 434,
   "metadata": {},
   "outputs": [
    {
     "name": "stdout",
     "output_type": "stream",
     "text": "Parse progress: |█████████████████████████████████████████████████████████| 100%\n"
    }
   ],
   "source": [
    "loan_csv = outputTest\n",
    "\n",
    "data_test_h2o = h2o.import_file(loan_csv,header=1) "
   ]
  },
  {
   "cell_type": "code",
   "execution_count": 477,
   "metadata": {},
   "outputs": [
    {
     "data": {
      "text/html": "<table>\n<thead>\n<tr><th style=\"text-align: right;\">           0</th><th style=\"text-align: right;\">       1</th><th style=\"text-align: right;\">        2</th><th style=\"text-align: right;\">        3</th><th style=\"text-align: right;\">       4</th><th style=\"text-align: right;\">        5</th><th style=\"text-align: right;\">         6</th><th style=\"text-align: right;\">       7</th><th style=\"text-align: right;\">       8</th><th style=\"text-align: right;\">         9</th><th>author   </th></tr>\n</thead>\n<tbody>\n<tr><td style=\"text-align: right;\"> 0.125799   </td><td style=\"text-align: right;\">0.10976 </td><td style=\"text-align: right;\">0.0347863</td><td style=\"text-align: right;\">-0.477907</td><td style=\"text-align: right;\">0.266038</td><td style=\"text-align: right;\">-0.917224</td><td style=\"text-align: right;\">-0.0900011</td><td style=\"text-align: right;\">0.328784</td><td style=\"text-align: right;\">0.414138</td><td style=\"text-align: right;\">-0.752526 </td><td>Ubuntius </td></tr>\n<tr><td style=\"text-align: right;\">-0.000328204</td><td style=\"text-align: right;\">0.135538</td><td style=\"text-align: right;\">0.067771 </td><td style=\"text-align: right;\"> 0.183015</td><td style=\"text-align: right;\">0.266038</td><td style=\"text-align: right;\"> 0.202721</td><td style=\"text-align: right;\"> 0.482713 </td><td style=\"text-align: right;\">0.132677</td><td style=\"text-align: right;\">0.298764</td><td style=\"text-align: right;\"> 0.0179226</td><td>Philippus</td></tr>\n</tbody>\n</table>"
     },
     "metadata": {},
     "output_type": "display_data"
    },
    {
     "data": {
      "text/plain": ""
     },
     "execution_count": 477,
     "metadata": {},
     "output_type": "execute_result"
    }
   ],
   "source": [
    "data_test_h2o.head(2)"
   ]
  },
  {
   "cell_type": "markdown",
   "metadata": {},
   "source": [
    "**Extracción de predicciones**"
   ]
  },
  {
   "cell_type": "code",
   "execution_count": 443,
   "metadata": {},
   "outputs": [
    {
     "name": "stdout",
     "output_type": "stream",
     "text": "drf prediction progress: |████████████████████████████████████████████████| 100%\n"
    },
    {
     "data": {
      "text/html": "<div>\n<style scoped>\n    .dataframe tbody tr th:only-of-type {\n        vertical-align: middle;\n    }\n\n    .dataframe tbody tr th {\n        vertical-align: top;\n    }\n\n    .dataframe thead th {\n        text-align: right;\n    }\n</style>\n<table border=\"1\" class=\"dataframe\">\n  <thead>\n    <tr style=\"text-align: right;\">\n      <th></th>\n      <th>author</th>\n      <th>Blanquius</th>\n      <th>Clarius</th>\n      <th>FerrumEffractarius</th>\n      <th>Marcus</th>\n      <th>Ovionicus</th>\n      <th>Paithonius</th>\n      <th>Philippus</th>\n      <th>Ubuntius</th>\n    </tr>\n  </thead>\n  <tbody>\n    <tr>\n      <th>0</th>\n      <td>Marcus</td>\n      <td>0.007392</td>\n      <td>0.000000</td>\n      <td>0.000000</td>\n      <td>0.471379</td>\n      <td>0.007392</td>\n      <td>0.044350</td>\n      <td>0.210782</td>\n      <td>0.258706</td>\n    </tr>\n    <tr>\n      <th>1</th>\n      <td>Marcus</td>\n      <td>0.000000</td>\n      <td>0.000000</td>\n      <td>0.000000</td>\n      <td>0.691429</td>\n      <td>0.000010</td>\n      <td>0.010603</td>\n      <td>0.243617</td>\n      <td>0.054341</td>\n    </tr>\n    <tr>\n      <th>2</th>\n      <td>Marcus</td>\n      <td>0.000000</td>\n      <td>0.011668</td>\n      <td>0.000000</td>\n      <td>0.671853</td>\n      <td>0.221693</td>\n      <td>0.018848</td>\n      <td>0.070103</td>\n      <td>0.005834</td>\n    </tr>\n    <tr>\n      <th>3</th>\n      <td>Clarius</td>\n      <td>0.000000</td>\n      <td>0.829206</td>\n      <td>0.004319</td>\n      <td>0.110043</td>\n      <td>0.051825</td>\n      <td>0.004607</td>\n      <td>0.000000</td>\n      <td>0.000000</td>\n    </tr>\n    <tr>\n      <th>4</th>\n      <td>Philippus</td>\n      <td>0.000000</td>\n      <td>0.000000</td>\n      <td>0.000000</td>\n      <td>0.240231</td>\n      <td>0.000013</td>\n      <td>0.021934</td>\n      <td>0.723198</td>\n      <td>0.014623</td>\n    </tr>\n  </tbody>\n</table>\n</div>",
      "text/plain": "      author  Blanquius   Clarius  FerrumEffractarius    Marcus  Ovionicus  \\\n0     Marcus   0.007392  0.000000            0.000000  0.471379   0.007392   \n1     Marcus   0.000000  0.000000            0.000000  0.691429   0.000010   \n2     Marcus   0.000000  0.011668            0.000000  0.671853   0.221693   \n3    Clarius   0.000000  0.829206            0.004319  0.110043   0.051825   \n4  Philippus   0.000000  0.000000            0.000000  0.240231   0.000013   \n\n   Paithonius  Philippus  Ubuntius  \n0    0.044350   0.210782  0.258706  \n1    0.010603   0.243617  0.054341  \n2    0.018848   0.070103  0.005834  \n3    0.004607   0.000000  0.000000  \n4    0.021934   0.723198  0.014623  "
     },
     "execution_count": 443,
     "metadata": {},
     "output_type": "execute_result"
    }
   ],
   "source": [
    "y_pred = rf_fit3.predict(test_data=data_test_h2o)\n",
    "\n",
    "conclusion = y_pred.as_data_frame()\n",
    "\n",
    "conclusion = conclusion.rename(columns={\"predict\":f\"{y}\"})\n",
    "conclusion.head()\n"
   ]
  },
  {
   "cell_type": "code",
   "execution_count": 444,
   "metadata": {},
   "outputs": [
    {
     "data": {
      "text/html": "<div>\n<style scoped>\n    .dataframe tbody tr th:only-of-type {\n        vertical-align: middle;\n    }\n\n    .dataframe tbody tr th {\n        vertical-align: top;\n    }\n\n    .dataframe thead th {\n        text-align: right;\n    }\n</style>\n<table border=\"1\" class=\"dataframe\">\n  <thead>\n    <tr style=\"text-align: right;\">\n      <th></th>\n      <th>id</th>\n      <th>author</th>\n    </tr>\n  </thead>\n  <tbody>\n    <tr>\n      <th>0</th>\n      <td>0</td>\n      <td>Marcus</td>\n    </tr>\n    <tr>\n      <th>1</th>\n      <td>1</td>\n      <td>Marcus</td>\n    </tr>\n    <tr>\n      <th>2</th>\n      <td>2</td>\n      <td>Marcus</td>\n    </tr>\n    <tr>\n      <th>3</th>\n      <td>3</td>\n      <td>Clarius</td>\n    </tr>\n    <tr>\n      <th>4</th>\n      <td>4</td>\n      <td>Philippus</td>\n    </tr>\n  </tbody>\n</table>\n</div>",
      "text/plain": "   id     author\n0   0     Marcus\n1   1     Marcus\n2   2     Marcus\n3   3    Clarius\n4   4  Philippus"
     },
     "execution_count": 444,
     "metadata": {},
     "output_type": "execute_result"
    }
   ],
   "source": [
    "result = data_test[[\"id\"]].join(conclusion[f\"{y}\"])\n",
    "\n",
    "result.head()"
   ]
  },
  {
   "cell_type": "markdown",
   "metadata": {},
   "source": [
    "**Generación de reporte final**"
   ]
  },
  {
   "cell_type": "code",
   "execution_count": 445,
   "metadata": {},
   "outputs": [
    {
     "data": {
      "text/html": "<div>\n<style scoped>\n    .dataframe tbody tr th:only-of-type {\n        vertical-align: middle;\n    }\n\n    .dataframe tbody tr th {\n        vertical-align: top;\n    }\n\n    .dataframe thead th {\n        text-align: right;\n    }\n</style>\n<table border=\"1\" class=\"dataframe\">\n  <thead>\n    <tr style=\"text-align: right;\">\n      <th></th>\n      <th>id</th>\n      <th>author</th>\n    </tr>\n  </thead>\n  <tbody>\n    <tr>\n      <th>0</th>\n      <td>0</td>\n      <td>Marcus</td>\n    </tr>\n    <tr>\n      <th>1</th>\n      <td>1</td>\n      <td>Marcus</td>\n    </tr>\n  </tbody>\n</table>\n</div>",
      "text/plain": "   id  author\n0   0  Marcus\n1   1  Marcus"
     },
     "execution_count": 445,
     "metadata": {},
     "output_type": "execute_result"
    }
   ],
   "source": [
    "resultDef = result[[\"id\",f\"{y}\"]]\n",
    "\n",
    "resultDef.head(2)"
   ]
  },
  {
   "cell_type": "code",
   "execution_count": 446,
   "metadata": {},
   "outputs": [],
   "source": [
    "resultDef.to_csv (submission, index = False, header=True)"
   ]
  },
  {
   "cell_type": "markdown",
   "metadata": {},
   "source": [
    "## Última comprobación final"
   ]
  },
  {
   "cell_type": "code",
   "execution_count": 440,
   "metadata": {},
   "outputs": [],
   "source": [
    "df_check = pd.read_csv(submission)"
   ]
  },
  {
   "cell_type": "code",
   "execution_count": 441,
   "metadata": {},
   "outputs": [
    {
     "data": {
      "text/html": "<div>\n<style scoped>\n    .dataframe tbody tr th:only-of-type {\n        vertical-align: middle;\n    }\n\n    .dataframe tbody tr th {\n        vertical-align: top;\n    }\n\n    .dataframe thead th {\n        text-align: right;\n    }\n</style>\n<table border=\"1\" class=\"dataframe\">\n  <thead>\n    <tr style=\"text-align: right;\">\n      <th></th>\n      <th>id</th>\n      <th>author</th>\n    </tr>\n  </thead>\n  <tbody>\n    <tr>\n      <th>0</th>\n      <td>0</td>\n      <td>Philippus</td>\n    </tr>\n    <tr>\n      <th>1</th>\n      <td>1</td>\n      <td>Marcus</td>\n    </tr>\n    <tr>\n      <th>2</th>\n      <td>2</td>\n      <td>Marcus</td>\n    </tr>\n    <tr>\n      <th>3</th>\n      <td>3</td>\n      <td>Clarius</td>\n    </tr>\n    <tr>\n      <th>4</th>\n      <td>4</td>\n      <td>Marcus</td>\n    </tr>\n  </tbody>\n</table>\n</div>",
      "text/plain": "   id     author\n0   0  Philippus\n1   1     Marcus\n2   2     Marcus\n3   3    Clarius\n4   4     Marcus"
     },
     "execution_count": 441,
     "metadata": {},
     "output_type": "execute_result"
    }
   ],
   "source": [
    "df_check.head()"
   ]
  },
  {
   "cell_type": "code",
   "execution_count": 447,
   "metadata": {},
   "outputs": [
    {
     "data": {
      "text/html": "<div>\n<style scoped>\n    .dataframe tbody tr th:only-of-type {\n        vertical-align: middle;\n    }\n\n    .dataframe tbody tr th {\n        vertical-align: top;\n    }\n\n    .dataframe thead th {\n        text-align: right;\n    }\n</style>\n<table border=\"1\" class=\"dataframe\">\n  <thead>\n    <tr style=\"text-align: right;\">\n      <th></th>\n      <th>id</th>\n      <th>0</th>\n      <th>1</th>\n      <th>2</th>\n      <th>3</th>\n      <th>4</th>\n      <th>5</th>\n      <th>6</th>\n      <th>7</th>\n      <th>8</th>\n      <th>9</th>\n    </tr>\n  </thead>\n  <tbody>\n    <tr>\n      <th>0</th>\n      <td>0</td>\n      <td>0.019197</td>\n      <td>0.038511</td>\n      <td>0.192950</td>\n      <td>0.323367</td>\n      <td>0.261718</td>\n      <td>-0.100360</td>\n      <td>0.106925</td>\n      <td>0.463833</td>\n      <td>0.064084</td>\n      <td>-0.025146</td>\n    </tr>\n    <tr>\n      <th>1</th>\n      <td>1</td>\n      <td>0.006853</td>\n      <td>0.462474</td>\n      <td>-0.016878</td>\n      <td>0.649795</td>\n      <td>-1.347089</td>\n      <td>-0.307984</td>\n      <td>-0.119577</td>\n      <td>0.855597</td>\n      <td>0.375899</td>\n      <td>-0.092040</td>\n    </tr>\n    <tr>\n      <th>2</th>\n      <td>2</td>\n      <td>0.229043</td>\n      <td>-0.369751</td>\n      <td>0.484575</td>\n      <td>0.250174</td>\n      <td>0.261718</td>\n      <td>-0.017310</td>\n      <td>0.446679</td>\n      <td>0.232984</td>\n      <td>-0.123005</td>\n      <td>-0.126856</td>\n    </tr>\n    <tr>\n      <th>3</th>\n      <td>3</td>\n      <td>-0.104241</td>\n      <td>-0.055704</td>\n      <td>0.299642</td>\n      <td>0.391249</td>\n      <td>0.172340</td>\n      <td>0.314889</td>\n      <td>0.106925</td>\n      <td>0.220694</td>\n      <td>0.219991</td>\n      <td>0.368972</td>\n    </tr>\n    <tr>\n      <th>4</th>\n      <td>4</td>\n      <td>1.043737</td>\n      <td>-0.401156</td>\n      <td>0.473906</td>\n      <td>0.506215</td>\n      <td>0.261718</td>\n      <td>0.065740</td>\n      <td>-0.195078</td>\n      <td>0.515440</td>\n      <td>-0.808997</td>\n      <td>0.315303</td>\n    </tr>\n  </tbody>\n</table>\n</div>",
      "text/plain": "   id         0         1         2         3         4         5         6  \\\n0   0  0.019197  0.038511  0.192950  0.323367  0.261718 -0.100360  0.106925   \n1   1  0.006853  0.462474 -0.016878  0.649795 -1.347089 -0.307984 -0.119577   \n2   2  0.229043 -0.369751  0.484575  0.250174  0.261718 -0.017310  0.446679   \n3   3 -0.104241 -0.055704  0.299642  0.391249  0.172340  0.314889  0.106925   \n4   4  1.043737 -0.401156  0.473906  0.506215  0.261718  0.065740 -0.195078   \n\n          7         8         9  \n0  0.463833  0.064084 -0.025146  \n1  0.855597  0.375899 -0.092040  \n2  0.232984 -0.123005 -0.126856  \n3  0.220694  0.219991  0.368972  \n4  0.515440 -0.808997  0.315303  "
     },
     "execution_count": 447,
     "metadata": {},
     "output_type": "execute_result"
    }
   ],
   "source": [
    "data_test.head()"
   ]
  },
  {
   "cell_type": "code",
   "execution_count": null,
   "metadata": {},
   "outputs": [],
   "source": []
  }
 ]
}