{
 "nbformat": 4,
 "nbformat_minor": 2,
 "metadata": {
  "language_info": {
   "name": "python",
   "codemirror_mode": {
    "name": "ipython",
    "version": 3
   },
   "version": "3.6.9-final"
  },
  "orig_nbformat": 2,
  "file_extension": ".py",
  "mimetype": "text/x-python",
  "name": "python",
  "npconvert_exporter": "python",
  "pygments_lexer": "ipython3",
  "version": 3,
  "kernelspec": {
   "name": "python36964bit393d81eb15b54b0093ea31921d80c86d",
   "display_name": "Python 3.6.9 64-bit"
  }
 },
 "cells": [
  {
   "cell_type": "markdown",
   "metadata": {},
   "source": [
    "## Importar Liberías"
   ]
  },
  {
   "cell_type": "markdown",
   "metadata": {},
   "source": [
    "**Librerías básicas**"
   ]
  },
  {
   "cell_type": "code",
   "execution_count": 98,
   "metadata": {},
   "outputs": [],
   "source": [
    "import pandas as pd"
   ]
  },
  {
   "cell_type": "markdown",
   "metadata": {},
   "source": [
    "**Módulos locales**"
   ]
  },
  {
   "cell_type": "code",
   "execution_count": 99,
   "metadata": {},
   "outputs": [],
   "source": [
    "from Src.cleaner import *\n",
    "from Src.featureSelection import *"
   ]
  },
  {
   "cell_type": "markdown",
   "metadata": {},
   "source": [
    "**Librerías de apoyo**"
   ]
  },
  {
   "cell_type": "code",
   "execution_count": 100,
   "metadata": {},
   "outputs": [],
   "source": [
    "from sklearn.base import BaseEstimator, TransformerMixin\n",
    "from sklearn.preprocessing import StandardScaler, Normalizer\n",
    "from sklearn.pipeline import make_pipeline"
   ]
  },
  {
   "cell_type": "markdown",
   "metadata": {},
   "source": [
    "**Librerías de Machine Learning**"
   ]
  },
  {
   "cell_type": "code",
   "execution_count": 101,
   "metadata": {},
   "outputs": [
    {
     "name": "stdout",
     "output_type": "stream",
     "text": "Checking whether there is an H2O instance running at http://localhost:54321. connected.\n"
    },
    {
     "data": {
      "text/html": "<div style=\"overflow:auto\"><table style=\"width:50%\"><tr><td>H2O cluster uptime:</td>\n<td>20 mins 28 secs</td></tr>\n<tr><td>H2O cluster timezone:</td>\n<td>Europe/Madrid</td></tr>\n<tr><td>H2O data parsing timezone:</td>\n<td>UTC</td></tr>\n<tr><td>H2O cluster version:</td>\n<td>3.28.0.3</td></tr>\n<tr><td>H2O cluster version age:</td>\n<td>26 days </td></tr>\n<tr><td>H2O cluster name:</td>\n<td>H2O_from_python_alex_7b22ja</td></tr>\n<tr><td>H2O cluster total nodes:</td>\n<td>1</td></tr>\n<tr><td>H2O cluster free memory:</td>\n<td>7.998 Gb</td></tr>\n<tr><td>H2O cluster total cores:</td>\n<td>8</td></tr>\n<tr><td>H2O cluster allowed cores:</td>\n<td>8</td></tr>\n<tr><td>H2O cluster status:</td>\n<td>locked, healthy</td></tr>\n<tr><td>H2O connection url:</td>\n<td>http://localhost:54321</td></tr>\n<tr><td>H2O connection proxy:</td>\n<td>{'http': None, 'https': None}</td></tr>\n<tr><td>H2O internal security:</td>\n<td>False</td></tr>\n<tr><td>H2O API Extensions:</td>\n<td>Amazon S3, XGBoost, Algos, AutoML, Core V3, TargetEncoder, Core V4</td></tr>\n<tr><td>Python version:</td>\n<td>3.6.9 final</td></tr></table></div>",
      "text/plain": "--------------------------  ------------------------------------------------------------------\nH2O cluster uptime:         20 mins 28 secs\nH2O cluster timezone:       Europe/Madrid\nH2O data parsing timezone:  UTC\nH2O cluster version:        3.28.0.3\nH2O cluster version age:    26 days\nH2O cluster name:           H2O_from_python_alex_7b22ja\nH2O cluster total nodes:    1\nH2O cluster free memory:    7.998 Gb\nH2O cluster total cores:    8\nH2O cluster allowed cores:  8\nH2O cluster status:         locked, healthy\nH2O connection url:         http://localhost:54321\nH2O connection proxy:       {'http': None, 'https': None}\nH2O internal security:      False\nH2O API Extensions:         Amazon S3, XGBoost, Algos, AutoML, Core V3, TargetEncoder, Core V4\nPython version:             3.6.9 final\n--------------------------  ------------------------------------------------------------------"
     },
     "metadata": {},
     "output_type": "display_data"
    }
   ],
   "source": [
    "import h2o\n",
    "h2o.init(nthreads = -1, max_mem_size = 8)\n",
    "\n",
    "from h2o.automl import H2OAutoML\n",
    "\n",
    "from h2o.estimators.random_forest import H2ORandomForestEstimator\n",
    "from h2o.estimators.gbm import H2OGradientBoostingEstimator\n",
    "from h2o.estimators.deeplearning import H2ODeepLearningEstimator"
   ]
  },
  {
   "cell_type": "markdown",
   "metadata": {},
   "source": [
    "## Limpieza de datos"
   ]
  },
  {
   "cell_type": "markdown",
   "metadata": {},
   "source": [
    "**Ver procedimiento de limpieza detallado en documento \"cleaner.ipynb\" en este mismo repositorio**"
   ]
  },
  {
   "cell_type": "code",
   "execution_count": 102,
   "metadata": {},
   "outputs": [],
   "source": [
    "df = pd.read_csv(\"Inputs/training_dataset.csv\")"
   ]
  },
  {
   "cell_type": "code",
   "execution_count": 103,
   "metadata": {},
   "outputs": [
    {
     "data": {
      "text/html": "<div>\n<style scoped>\n    .dataframe tbody tr th:only-of-type {\n        vertical-align: middle;\n    }\n\n    .dataframe tbody tr th {\n        vertical-align: top;\n    }\n\n    .dataframe thead th {\n        text-align: right;\n    }\n</style>\n<table border=\"1\" class=\"dataframe\">\n  <thead>\n    <tr style=\"text-align: right;\">\n      <th></th>\n      <th>id</th>\n      <th>0</th>\n      <th>1</th>\n      <th>2</th>\n      <th>3</th>\n      <th>4</th>\n      <th>5</th>\n      <th>6</th>\n      <th>7</th>\n      <th>8</th>\n      <th>9</th>\n      <th>author</th>\n    </tr>\n  </thead>\n  <tbody>\n    <tr>\n      <th>0</th>\n      <td>0</td>\n      <td>0.142636</td>\n      <td>0.431070</td>\n      <td>0.032912</td>\n      <td>-0.486796</td>\n      <td>0.261718</td>\n      <td>-1.013906</td>\n      <td>-0.081827</td>\n      <td>0.330352</td>\n      <td>0.438262</td>\n      <td>-0.761088</td>\n      <td>Ubuntius</td>\n    </tr>\n    <tr>\n      <th>1</th>\n      <td>1</td>\n      <td>0.019197</td>\n      <td>0.525284</td>\n      <td>0.068476</td>\n      <td>0.166658</td>\n      <td>0.261718</td>\n      <td>0.231839</td>\n      <td>0.635431</td>\n      <td>0.133209</td>\n      <td>0.313536</td>\n      <td>-0.002374</td>\n      <td>Philippus</td>\n    </tr>\n    <tr>\n      <th>2</th>\n      <td>2</td>\n      <td>0.093260</td>\n      <td>-0.087108</td>\n      <td>-2.268081</td>\n      <td>-0.164963</td>\n      <td>0.261718</td>\n      <td>1.477585</td>\n      <td>0.635431</td>\n      <td>-0.370641</td>\n      <td>0.126447</td>\n      <td>1.078357</td>\n      <td>Marcus</td>\n    </tr>\n  </tbody>\n</table>\n</div>",
      "text/plain": "   id         0         1         2         3         4         5         6  \\\n0   0  0.142636  0.431070  0.032912 -0.486796  0.261718 -1.013906 -0.081827   \n1   1  0.019197  0.525284  0.068476  0.166658  0.261718  0.231839  0.635431   \n2   2  0.093260 -0.087108 -2.268081 -0.164963  0.261718  1.477585  0.635431   \n\n          7         8         9     author  \n0  0.330352  0.438262 -0.761088   Ubuntius  \n1  0.133209  0.313536 -0.002374  Philippus  \n2 -0.370641  0.126447  1.078357     Marcus  "
     },
     "execution_count": 103,
     "metadata": {},
     "output_type": "execute_result"
    }
   ],
   "source": [
    "df.head(3)"
   ]
  },
  {
   "cell_type": "code",
   "execution_count": 104,
   "metadata": {},
   "outputs": [],
   "source": [
    "class cleanBible(TransformerMixin):\n",
    "    def __init__(self):\n",
    "        self.features =[\"id\", \"0\",\"1\",\"2\",\"3\",\"4\",\"5\",\"6\",\"7\",\"8\",\"9\"]\n",
    "    \n",
    "    def fit(self, df):\n",
    "        #Iniciamos limpieza\n",
    "        X = df[self.features]\n",
    "        X = df.drop(columns=\"id\", axis=1)\n",
    "        self.X = pd.get_dummies(X)\n",
    "        self.cols = self.X.columns\n",
    "        return self\n",
    "    \n",
    "    def transform(self, X):\n",
    "        return self.X"
   ]
  },
  {
   "cell_type": "code",
   "execution_count": 105,
   "metadata": {},
   "outputs": [],
   "source": [
    "cleaner = cleanBible()\n",
    "pipe = make_pipeline(*[\n",
    "    cleaner,\n",
    "    StandardScaler(),\n",
    "    #Normalizer(),\n",
    "])"
   ]
  },
  {
   "cell_type": "code",
   "execution_count": 106,
   "metadata": {},
   "outputs": [
    {
     "data": {
      "text/html": "<div>\n<style scoped>\n    .dataframe tbody tr th:only-of-type {\n        vertical-align: middle;\n    }\n\n    .dataframe tbody tr th {\n        vertical-align: top;\n    }\n\n    .dataframe thead th {\n        text-align: right;\n    }\n</style>\n<table border=\"1\" class=\"dataframe\">\n  <thead>\n    <tr style=\"text-align: right;\">\n      <th></th>\n      <th>0</th>\n      <th>1</th>\n      <th>2</th>\n      <th>3</th>\n      <th>4</th>\n      <th>5</th>\n      <th>6</th>\n      <th>7</th>\n      <th>8</th>\n      <th>9</th>\n      <th>author_Blanquius</th>\n      <th>author_Clarius</th>\n      <th>author_FerrumEffractarius</th>\n      <th>author_Marcus</th>\n      <th>author_Ovionicus</th>\n      <th>author_Paithonius</th>\n      <th>author_Philippus</th>\n      <th>author_Ubuntius</th>\n    </tr>\n  </thead>\n  <tbody>\n    <tr>\n      <th>0</th>\n      <td>0.125799</td>\n      <td>0.109760</td>\n      <td>0.034786</td>\n      <td>-0.477907</td>\n      <td>0.266038</td>\n      <td>-0.917224</td>\n      <td>-0.090001</td>\n      <td>0.328784</td>\n      <td>0.414138</td>\n      <td>-0.752526</td>\n      <td>-0.304063</td>\n      <td>-0.233833</td>\n      <td>-0.192409</td>\n      <td>-0.861305</td>\n      <td>-0.348736</td>\n      <td>-0.237766</td>\n      <td>-0.492395</td>\n      <td>4.614650</td>\n    </tr>\n    <tr>\n      <th>1</th>\n      <td>-0.000328</td>\n      <td>0.135538</td>\n      <td>0.067771</td>\n      <td>0.183015</td>\n      <td>0.266038</td>\n      <td>0.202721</td>\n      <td>0.482713</td>\n      <td>0.132677</td>\n      <td>0.298764</td>\n      <td>0.017923</td>\n      <td>-0.304063</td>\n      <td>-0.233833</td>\n      <td>-0.192409</td>\n      <td>-0.861305</td>\n      <td>-0.348736</td>\n      <td>-0.237766</td>\n      <td>2.030891</td>\n      <td>-0.216701</td>\n    </tr>\n    <tr>\n      <th>2</th>\n      <td>0.075348</td>\n      <td>-0.032019</td>\n      <td>-2.099330</td>\n      <td>-0.152396</td>\n      <td>0.266038</td>\n      <td>1.322667</td>\n      <td>0.482713</td>\n      <td>-0.368525</td>\n      <td>0.125703</td>\n      <td>1.115368</td>\n      <td>-0.304063</td>\n      <td>-0.233833</td>\n      <td>-0.192409</td>\n      <td>1.161029</td>\n      <td>-0.348736</td>\n      <td>-0.237766</td>\n      <td>-0.492395</td>\n      <td>-0.216701</td>\n    </tr>\n  </tbody>\n</table>\n</div>",
      "text/plain": "          0         1         2         3         4         5         6  \\\n0  0.125799  0.109760  0.034786 -0.477907  0.266038 -0.917224 -0.090001   \n1 -0.000328  0.135538  0.067771  0.183015  0.266038  0.202721  0.482713   \n2  0.075348 -0.032019 -2.099330 -0.152396  0.266038  1.322667  0.482713   \n\n          7         8         9  author_Blanquius  author_Clarius  \\\n0  0.328784  0.414138 -0.752526         -0.304063       -0.233833   \n1  0.132677  0.298764  0.017923         -0.304063       -0.233833   \n2 -0.368525  0.125703  1.115368         -0.304063       -0.233833   \n\n   author_FerrumEffractarius  author_Marcus  author_Ovionicus  \\\n0                  -0.192409      -0.861305         -0.348736   \n1                  -0.192409      -0.861305         -0.348736   \n2                  -0.192409       1.161029         -0.348736   \n\n   author_Paithonius  author_Philippus  author_Ubuntius  \n0          -0.237766         -0.492395         4.614650  \n1          -0.237766          2.030891        -0.216701  \n2          -0.237766         -0.492395        -0.216701  "
     },
     "execution_count": 106,
     "metadata": {},
     "output_type": "execute_result"
    }
   ],
   "source": [
    "X = pipe.fit_transform(df)\n",
    "X= pd.DataFrame(X, columns=cleaner.cols)\n",
    "pd.options.display.max_columns =28\n",
    "X.head(3)"
   ]
  },
  {
   "cell_type": "code",
   "execution_count": 107,
   "metadata": {},
   "outputs": [],
   "source": [
    "df_export = X.copy()\n",
    "df_export.to_csv(\"Outputs/bible_cleaned(V1).csv\", index=False)"
   ]
  },
  {
   "cell_type": "markdown",
   "metadata": {},
   "source": [
    "## Transformación de dataset"
   ]
  },
  {
   "cell_type": "code",
   "execution_count": 138,
   "metadata": {},
   "outputs": [
    {
     "name": "stdout",
     "output_type": "stream",
     "text": "Parse progress: |█████████████████████████████████████████████████████████| 100%\n"
    }
   ],
   "source": [
    "loan_csv = \"Outputs/bible_cleaned(V1).csv\"\n",
    "\n",
    "data = h2o.import_file(loan_csv, header=1) "
   ]
  },
  {
   "cell_type": "code",
   "execution_count": 140,
   "metadata": {},
   "outputs": [
    {
     "data": {
      "text/plain": "(12017, 18)"
     },
     "execution_count": 140,
     "metadata": {},
     "output_type": "execute_result"
    }
   ],
   "source": [
    "data.shape"
   ]
  },
  {
   "cell_type": "code",
   "execution_count": 141,
   "metadata": {},
   "outputs": [
    {
     "data": {
      "text/html": "<table>\n<thead>\n<tr><th style=\"text-align: right;\">           0</th><th style=\"text-align: right;\">         1</th><th style=\"text-align: right;\">         2</th><th style=\"text-align: right;\">        3</th><th style=\"text-align: right;\">       4</th><th style=\"text-align: right;\">        5</th><th style=\"text-align: right;\">         6</th><th style=\"text-align: right;\">        7</th><th style=\"text-align: right;\">       8</th><th style=\"text-align: right;\">         9</th><th style=\"text-align: right;\">  author_Blanquius</th><th style=\"text-align: right;\">  author_Clarius</th><th style=\"text-align: right;\">  author_FerrumEffractarius</th><th style=\"text-align: right;\">  author_Marcus</th><th style=\"text-align: right;\">  author_Ovionicus</th><th style=\"text-align: right;\">  author_Paithonius</th><th style=\"text-align: right;\">  author_Philippus</th><th style=\"text-align: right;\">  author_Ubuntius</th></tr>\n</thead>\n<tbody>\n<tr><td style=\"text-align: right;\"> 0.125799   </td><td style=\"text-align: right;\"> 0.10976  </td><td style=\"text-align: right;\"> 0.0347863</td><td style=\"text-align: right;\">-0.477907</td><td style=\"text-align: right;\">0.266038</td><td style=\"text-align: right;\">-0.917224</td><td style=\"text-align: right;\">-0.0900011</td><td style=\"text-align: right;\"> 0.328784</td><td style=\"text-align: right;\">0.414138</td><td style=\"text-align: right;\">-0.752526 </td><td style=\"text-align: right;\">         -0.304063</td><td style=\"text-align: right;\">       -0.233833</td><td style=\"text-align: right;\">                  -0.192409</td><td style=\"text-align: right;\">      -0.861305</td><td style=\"text-align: right;\">         -0.348736</td><td style=\"text-align: right;\">          -0.237766</td><td style=\"text-align: right;\">         -0.492395</td><td style=\"text-align: right;\">         4.61465 </td></tr>\n<tr><td style=\"text-align: right;\">-0.000328204</td><td style=\"text-align: right;\"> 0.135538 </td><td style=\"text-align: right;\"> 0.067771 </td><td style=\"text-align: right;\"> 0.183015</td><td style=\"text-align: right;\">0.266038</td><td style=\"text-align: right;\"> 0.202721</td><td style=\"text-align: right;\"> 0.482713 </td><td style=\"text-align: right;\"> 0.132677</td><td style=\"text-align: right;\">0.298764</td><td style=\"text-align: right;\"> 0.0179226</td><td style=\"text-align: right;\">         -0.304063</td><td style=\"text-align: right;\">       -0.233833</td><td style=\"text-align: right;\">                  -0.192409</td><td style=\"text-align: right;\">      -0.861305</td><td style=\"text-align: right;\">         -0.348736</td><td style=\"text-align: right;\">          -0.237766</td><td style=\"text-align: right;\">          2.03089 </td><td style=\"text-align: right;\">        -0.216701</td></tr>\n<tr><td style=\"text-align: right;\"> 0.0753478  </td><td style=\"text-align: right;\">-0.0320192</td><td style=\"text-align: right;\">-2.09933  </td><td style=\"text-align: right;\">-0.152396</td><td style=\"text-align: right;\">0.266038</td><td style=\"text-align: right;\"> 1.32267 </td><td style=\"text-align: right;\"> 0.482713 </td><td style=\"text-align: right;\">-0.368525</td><td style=\"text-align: right;\">0.125703</td><td style=\"text-align: right;\"> 1.11537  </td><td style=\"text-align: right;\">         -0.304063</td><td style=\"text-align: right;\">       -0.233833</td><td style=\"text-align: right;\">                  -0.192409</td><td style=\"text-align: right;\">       1.16103 </td><td style=\"text-align: right;\">         -0.348736</td><td style=\"text-align: right;\">          -0.237766</td><td style=\"text-align: right;\">         -0.492395</td><td style=\"text-align: right;\">        -0.216701</td></tr>\n</tbody>\n</table>"
     },
     "metadata": {},
     "output_type": "display_data"
    },
    {
     "data": {
      "text/plain": ""
     },
     "execution_count": 141,
     "metadata": {},
     "output_type": "execute_result"
    }
   ],
   "source": [
    "data.head(3)"
   ]
  },
  {
   "cell_type": "markdown",
   "metadata": {},
   "source": [
    "## Partición de los datos"
   ]
  },
  {
   "cell_type": "code",
   "execution_count": 111,
   "metadata": {},
   "outputs": [],
   "source": [
    "splits = data.split_frame(ratios=[0.7, 0.15], seed=1)  \n",
    "\n",
    "train = splits[0]\n",
    "valid = splits[1]\n",
    "test = splits[2]"
   ]
  },
  {
   "cell_type": "code",
   "execution_count": 112,
   "metadata": {},
   "outputs": [
    {
     "name": "stdout",
     "output_type": "stream",
     "text": "8452\n1792\n1774\n"
    }
   ],
   "source": [
    "print(train.nrow)\n",
    "print(valid.nrow)\n",
    "print(test.nrow)"
   ]
  },
  {
   "cell_type": "markdown",
   "metadata": {},
   "source": [
    "## Extracción de Features"
   ]
  },
  {
   "cell_type": "code",
   "execution_count": 113,
   "metadata": {},
   "outputs": [
    {
     "ename": "ValueError",
     "evalue": "list.remove(x): x not in list",
     "output_type": "error",
     "traceback": [
      "\u001b[0;31m---------------------------------------------------------------------------\u001b[0m",
      "\u001b[0;31mValueError\u001b[0m                                Traceback (most recent call last)",
      "\u001b[0;32m<ipython-input-113-707cb8e42338>\u001b[0m in \u001b[0;36m<module>\u001b[0;34m\u001b[0m\n\u001b[1;32m      2\u001b[0m \u001b[0mx\u001b[0m \u001b[0;34m=\u001b[0m \u001b[0mlist\u001b[0m\u001b[0;34m(\u001b[0m\u001b[0mdata\u001b[0m\u001b[0;34m.\u001b[0m\u001b[0mcolumns\u001b[0m\u001b[0;34m)\u001b[0m\u001b[0;34m\u001b[0m\u001b[0;34m\u001b[0m\u001b[0m\n\u001b[1;32m      3\u001b[0m \u001b[0;34m\u001b[0m\u001b[0m\n\u001b[0;32m----> 4\u001b[0;31m \u001b[0mx\u001b[0m\u001b[0;34m.\u001b[0m\u001b[0mremove\u001b[0m\u001b[0;34m(\u001b[0m\u001b[0my\u001b[0m\u001b[0;34m)\u001b[0m\u001b[0;34m\u001b[0m\u001b[0;34m\u001b[0m\u001b[0m\n\u001b[0m",
      "\u001b[0;31mValueError\u001b[0m: list.remove(x): x not in list"
     ]
    }
   ],
   "source": [
    "y = 'price'\n",
    "x = list(data.columns)\n",
    "\n",
    "x.remove(y)"
   ]
  },
  {
   "cell_type": "code",
   "execution_count": null,
   "metadata": {},
   "outputs": [],
   "source": [
    "x"
   ]
  },
  {
   "cell_type": "markdown",
   "metadata": {},
   "source": [
    "## Machine Learning!!"
   ]
  },
  {
   "cell_type": "code",
   "execution_count": null,
   "metadata": {},
   "outputs": [],
   "source": [
    "# rf_fit1 = H2ODeepLearningEstimator(model_id='rf_fit1', seed=1)\n",
    "# rf_fit1.train(x=x, y=y, training_frame=train)\n"
   ]
  },
  {
   "cell_type": "code",
   "execution_count": null,
   "metadata": {},
   "outputs": [],
   "source": [
    "# gbm_fit3 = H2OGradientBoostingEstimator(model_id='gbm_fit3', \n",
    "                                        # ntrees=500, \n",
    "                                        # score_tree_interval=5,     #used for early stopping\n",
    "                                        # stopping_rounds=3,         #used for early stopping\n",
    "                                        # stopping_metric='AUC',     #used for early stopping\n",
    "                                        # stopping_tolerance=0.0005, #used for early stopping\n",
    "                                        # seed=1)\n",
    "# gbm_fit3.train(x=x, y=y, training_frame=train, validation_frame=valid)"
   ]
  },
  {
   "cell_type": "code",
   "execution_count": null,
   "metadata": {},
   "outputs": [],
   "source": [
    "# rf_fit3 = H2ORandomForestEstimator(model_id='rf_fit3', ntrees=500, nfolds=8, seed=1)\n",
    "# rf_fit3.train(x=x, y=y, training_frame=data)"
   ]
  },
  {
   "cell_type": "code",
   "execution_count": null,
   "metadata": {},
   "outputs": [],
   "source": [
    "# rf_fit3"
   ]
  },
  {
   "cell_type": "markdown",
   "metadata": {},
   "source": [
    "## Métricas de rendimiento"
   ]
  },
  {
   "cell_type": "code",
   "execution_count": null,
   "metadata": {},
   "outputs": [],
   "source": [
    "# rf_perf1 = rf_fit1.model_performance(test)\n",
    "# rf_perf2 = rf_fit2.model_performance(test)\n",
    "# rf_perf3 = rf_fit3.model_performance(test)"
   ]
  },
  {
   "cell_type": "code",
   "execution_count": null,
   "metadata": {},
   "outputs": [],
   "source": [
    "# print(rf_perf1)"
   ]
  },
  {
   "cell_type": "code",
   "execution_count": null,
   "metadata": {},
   "outputs": [],
   "source": [
    "# print(rf_perf2)"
   ]
  },
  {
   "cell_type": "code",
   "execution_count": null,
   "metadata": {},
   "outputs": [],
   "source": [
    "# print(rf_perf3)"
   ]
  },
  {
   "cell_type": "markdown",
   "metadata": {},
   "source": [
    "## Auto Machine Learning!!!"
   ]
  },
  {
   "cell_type": "markdown",
   "metadata": {},
   "source": [
    "**Imposible en mi PC, migramos a Google Colab (ver documento \"Colab.ipynb\" en el respositorio)**"
   ]
  },
  {
   "cell_type": "markdown",
   "metadata": {},
   "source": [
    "## Generación de resultado final"
   ]
  },
  {
   "cell_type": "markdown",
   "metadata": {},
   "source": [
    "**Importación de dataset de testeo**\n"
   ]
  },
  {
   "cell_type": "code",
   "execution_count": null,
   "metadata": {},
   "outputs": [],
   "source": [
    "\n",
    "data_test = pd.read_csv(\"Inputs/diamonds_test.csv\")\n",
    "\n",
    "data_test.head(2)\n"
   ]
  },
  {
   "cell_type": "markdown",
   "metadata": {},
   "source": [
    "**Limpieza de dataset**"
   ]
  },
  {
   "cell_type": "code",
   "execution_count": null,
   "metadata": {},
   "outputs": [],
   "source": [
    "class cleanDiamonds_test(TransformerMixin):\n",
    "    def __init__(self):\n",
    "        self.features =[\"id\",\"carat\",\"table\",\"depth\",\"y\",\"z\",\"cut\",\"color\",\"clarity\",\"x\"]\n",
    "    \n",
    "    def fit(self, df):\n",
    "        #Iniciamos limpieza\n",
    "        X = df[self.features]\n",
    "        X.drop(columns=[\"table\",\"depth\",\"x\",\"z\"], axis=1, inplace=True)\n",
    "        X[\"cut\"] = X[\"cut\"].replace(\"Premium\", 1).replace(\"Ideal\", 2).replace(\"Very Good\", 3).replace(\"Very Good\", 4).replace(\"Fair\", 5).replace(\"Good\", 6)\n",
    "        X[\"color\"] = X[\"color\"].replace(\"D\", 1).replace(\"E\", 2).replace(\"F\", 3).replace(\"G\", 4).replace(\"H\", 5).replace(\"I\", 6).replace(\"J\", 7)\n",
    "        X[\"clarity\"] = X[\"clarity\"].replace(\"IF\", 1).replace(\"VVS1\", 2).replace(\"VVS2\", 3).replace(\"VS1\", 4).replace(\"VS2\", 5).replace(\"SI1\", 6).replace(\"SI2\", 7).replace(\"I1\", 8)\n",
    "        self.X = X\n",
    "        self.cols = self.X.columns\n",
    "        return self\n",
    "    \n",
    "    def transform(self, X):\n",
    "        return self.X"
   ]
  },
  {
   "cell_type": "code",
   "execution_count": null,
   "metadata": {},
   "outputs": [],
   "source": [
    "cleaner = cleanDiamonds_test()\n",
    "pipe = make_pipeline(*[\n",
    "    cleaner,\n",
    "    #StandardScaler(),\n",
    "    #Normalizer(),\n",
    "])"
   ]
  },
  {
   "cell_type": "code",
   "execution_count": null,
   "metadata": {},
   "outputs": [],
   "source": [
    "X = pipe.fit_transform(data_test)\n",
    "X= pd.DataFrame(X, columns=cleaner.cols)\n",
    "pd.options.display.max_columns =28\n",
    "X.head(3)"
   ]
  },
  {
   "cell_type": "code",
   "execution_count": null,
   "metadata": {},
   "outputs": [],
   "source": [
    "df_export = X.copy()\n",
    "df_export.to_csv(\"Outputs/diamonds_cleaned_test(V3).csv\", index=False)"
   ]
  },
  {
   "cell_type": "markdown",
   "metadata": {},
   "source": [
    "**Transformación a dataframe de H2O**"
   ]
  },
  {
   "cell_type": "code",
   "execution_count": null,
   "metadata": {},
   "outputs": [],
   "source": [
    "loan_csv = \"Outputs/diamonds_cleaned_test(V1).csv\"\n",
    "\n",
    "data_test_h2o = h2o.import_file(loan_csv) "
   ]
  },
  {
   "cell_type": "code",
   "execution_count": null,
   "metadata": {},
   "outputs": [],
   "source": [
    "data_test_h2o.head(2)"
   ]
  },
  {
   "cell_type": "markdown",
   "metadata": {},
   "source": [
    "**Extracción de predicciones**"
   ]
  },
  {
   "cell_type": "code",
   "execution_count": null,
   "metadata": {},
   "outputs": [],
   "source": [
    "y_pred = rf_fit3.predict(test_data=data_test_h2o)\n",
    "\n",
    "price = y_pred.as_data_frame()\n",
    "\n",
    "price = price.rename(columns={\"predict\":\"price\"})\n",
    "price.head()"
   ]
  },
  {
   "cell_type": "code",
   "execution_count": null,
   "metadata": {},
   "outputs": [],
   "source": [
    "result = data_test[[\"id\"]].join(price)\n",
    "\n",
    "result.head()"
   ]
  },
  {
   "cell_type": "markdown",
   "metadata": {},
   "source": [
    "**Generación de reporte final**"
   ]
  },
  {
   "cell_type": "code",
   "execution_count": null,
   "metadata": {},
   "outputs": [],
   "source": [
    "resultDef = result[[\"id\",\"price\"]]\n",
    "\n",
    "resultDef.head(2)"
   ]
  },
  {
   "cell_type": "code",
   "execution_count": null,
   "metadata": {},
   "outputs": [],
   "source": [
    "resultDef.to_csv (\"Outputs/submission.csv\", index = False, header=True)"
   ]
  },
  {
   "cell_type": "markdown",
   "metadata": {},
   "source": [
    "## Última comprobación final"
   ]
  },
  {
   "cell_type": "code",
   "execution_count": null,
   "metadata": {},
   "outputs": [],
   "source": [
    "df_check = pd.read_csv(\"Outputs/submission.csv\")"
   ]
  },
  {
   "cell_type": "code",
   "execution_count": null,
   "metadata": {},
   "outputs": [],
   "source": [
    "df_check.head()"
   ]
  },
  {
   "cell_type": "code",
   "execution_count": null,
   "metadata": {},
   "outputs": [],
   "source": [
    "data_test.head()"
   ]
  },
  {
   "cell_type": "code",
   "execution_count": null,
   "metadata": {},
   "outputs": [],
   "source": []
  }
 ]
}