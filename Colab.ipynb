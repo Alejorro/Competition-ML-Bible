{
  "nbformat": 4,
  "nbformat_minor": 0,
  "metadata": {
    "colab": {
      "name": "Competition ML - Diamonds (Ironhack).ipynb",
      "provenance": []
    },
    "kernelspec": {
      "name": "python3",
      "display_name": "Python 3"
    },
    "accelerator": "GPU"
  },
  "cells": [
    {
      "cell_type": "code",
      "metadata": {
        "id": "5gSH3FFhliT5",
        "colab_type": "code",
        "outputId": "c524c465-1061-4aa8-96e5-ae9cd6a71c71",
        "colab": {
          "base_uri": "https://localhost:8080/",
          "height": 729
        }
      },
      "source": [
        "!pip install h2o\n",
        "\n",
        "import h2o\n",
        "from h2o.automl import H2OAutoML\n",
        "h2o.init()"
      ],
      "execution_count": 0,
      "outputs": [
        {
          "output_type": "stream",
          "text": [
            "Requirement already satisfied: h2o in /usr/local/lib/python3.6/dist-packages (3.28.0.3)\n",
            "Requirement already satisfied: colorama>=0.3.8 in /usr/local/lib/python3.6/dist-packages (from h2o) (0.4.3)\n",
            "Requirement already satisfied: tabulate in /usr/local/lib/python3.6/dist-packages (from h2o) (0.8.6)\n",
            "Requirement already satisfied: future in /usr/local/lib/python3.6/dist-packages (from h2o) (0.16.0)\n",
            "Requirement already satisfied: requests in /usr/local/lib/python3.6/dist-packages (from h2o) (2.21.0)\n",
            "Requirement already satisfied: urllib3<1.25,>=1.21.1 in /usr/local/lib/python3.6/dist-packages (from requests->h2o) (1.24.3)\n",
            "Requirement already satisfied: certifi>=2017.4.17 in /usr/local/lib/python3.6/dist-packages (from requests->h2o) (2019.11.28)\n",
            "Requirement already satisfied: idna<2.9,>=2.5 in /usr/local/lib/python3.6/dist-packages (from requests->h2o) (2.8)\n",
            "Requirement already satisfied: chardet<3.1.0,>=3.0.2 in /usr/local/lib/python3.6/dist-packages (from requests->h2o) (3.0.4)\n",
            "Checking whether there is an H2O instance running at http://localhost:54321 ..... not found.\n",
            "Attempting to start a local H2O server...\n",
            "  Java Version: openjdk version \"11.0.6\" 2020-01-14; OpenJDK Runtime Environment (build 11.0.6+10-post-Ubuntu-1ubuntu118.04.1); OpenJDK 64-Bit Server VM (build 11.0.6+10-post-Ubuntu-1ubuntu118.04.1, mixed mode, sharing)\n",
            "  Starting server from /usr/local/lib/python3.6/dist-packages/h2o/backend/bin/h2o.jar\n",
            "  Ice root: /tmp/tmpz5r3ql61\n",
            "  JVM stdout: /tmp/tmpz5r3ql61/h2o_unknownUser_started_from_python.out\n",
            "  JVM stderr: /tmp/tmpz5r3ql61/h2o_unknownUser_started_from_python.err\n",
            "  Server is running at http://127.0.0.1:54321\n",
            "Connecting to H2O server at http://127.0.0.1:54321 ... successful.\n"
          ],
          "name": "stdout"
        },
        {
          "output_type": "display_data",
          "data": {
            "text/html": [
              "<div style=\"overflow:auto\"><table style=\"width:50%\"><tr><td>H2O cluster uptime:</td>\n",
              "<td>02 secs</td></tr>\n",
              "<tr><td>H2O cluster timezone:</td>\n",
              "<td>Etc/UTC</td></tr>\n",
              "<tr><td>H2O data parsing timezone:</td>\n",
              "<td>UTC</td></tr>\n",
              "<tr><td>H2O cluster version:</td>\n",
              "<td>3.28.0.3</td></tr>\n",
              "<tr><td>H2O cluster version age:</td>\n",
              "<td>25 days </td></tr>\n",
              "<tr><td>H2O cluster name:</td>\n",
              "<td>H2O_from_python_unknownUser_x8ar6n</td></tr>\n",
              "<tr><td>H2O cluster total nodes:</td>\n",
              "<td>1</td></tr>\n",
              "<tr><td>H2O cluster free memory:</td>\n",
              "<td>2.938 Gb</td></tr>\n",
              "<tr><td>H2O cluster total cores:</td>\n",
              "<td>2</td></tr>\n",
              "<tr><td>H2O cluster allowed cores:</td>\n",
              "<td>2</td></tr>\n",
              "<tr><td>H2O cluster status:</td>\n",
              "<td>accepting new members, healthy</td></tr>\n",
              "<tr><td>H2O connection url:</td>\n",
              "<td>http://127.0.0.1:54321</td></tr>\n",
              "<tr><td>H2O connection proxy:</td>\n",
              "<td>{'http': None, 'https': None}</td></tr>\n",
              "<tr><td>H2O internal security:</td>\n",
              "<td>False</td></tr>\n",
              "<tr><td>H2O API Extensions:</td>\n",
              "<td>Amazon S3, XGBoost, Algos, AutoML, Core V3, TargetEncoder, Core V4</td></tr>\n",
              "<tr><td>Python version:</td>\n",
              "<td>3.6.9 final</td></tr></table></div>"
            ],
            "text/plain": [
              "--------------------------  ------------------------------------------------------------------\n",
              "H2O cluster uptime:         02 secs\n",
              "H2O cluster timezone:       Etc/UTC\n",
              "H2O data parsing timezone:  UTC\n",
              "H2O cluster version:        3.28.0.3\n",
              "H2O cluster version age:    25 days\n",
              "H2O cluster name:           H2O_from_python_unknownUser_x8ar6n\n",
              "H2O cluster total nodes:    1\n",
              "H2O cluster free memory:    2.938 Gb\n",
              "H2O cluster total cores:    2\n",
              "H2O cluster allowed cores:  2\n",
              "H2O cluster status:         accepting new members, healthy\n",
              "H2O connection url:         http://127.0.0.1:54321\n",
              "H2O connection proxy:       {'http': None, 'https': None}\n",
              "H2O internal security:      False\n",
              "H2O API Extensions:         Amazon S3, XGBoost, Algos, AutoML, Core V3, TargetEncoder, Core V4\n",
              "Python version:             3.6.9 final\n",
              "--------------------------  ------------------------------------------------------------------"
            ]
          },
          "metadata": {
            "tags": []
          }
        }
      ]
    },
    {
      "cell_type": "code",
      "metadata": {
        "id": "UXfZYX6Syyty",
        "colab_type": "code",
        "outputId": "d3b1c2eb-78d3-42ae-92e1-68b33d33cb06",
        "colab": {
          "base_uri": "https://localhost:8080/",
          "height": 273
        }
      },
      "source": [
        "data_path = \"https://raw.githubusercontent.com/Alejorro/Competition-MachineLearning/master/Outputs/diamonds_cleaned(V2).csv\"\n",
        "\n",
        "df = h2o.import_file(data_path)\n",
        "\n",
        "df.head()"
      ],
      "execution_count": 0,
      "outputs": [
        {
          "output_type": "stream",
          "text": [
            "Parse progress: |█████████████████████████████████████████████████████████| 100%\n"
          ],
          "name": "stdout"
        },
        {
          "output_type": "display_data",
          "data": {
            "text/html": [
              "<table>\n",
              "<thead>\n",
              "<tr><th style=\"text-align: right;\">  price</th><th style=\"text-align: right;\">  carat</th><th style=\"text-align: right;\">   y</th><th style=\"text-align: right;\">  cut</th><th style=\"text-align: right;\">  color</th><th style=\"text-align: right;\">  clarity</th></tr>\n",
              "</thead>\n",
              "<tbody>\n",
              "<tr><td style=\"text-align: right;\">   3446</td><td style=\"text-align: right;\">   0.78</td><td style=\"text-align: right;\">5.98</td><td style=\"text-align: right;\">    1</td><td style=\"text-align: right;\">      3</td><td style=\"text-align: right;\">        4</td></tr>\n",
              "<tr><td style=\"text-align: right;\">    732</td><td style=\"text-align: right;\">   0.31</td><td style=\"text-align: right;\">4.32</td><td style=\"text-align: right;\">    2</td><td style=\"text-align: right;\">      1</td><td style=\"text-align: right;\">        6</td></tr>\n",
              "<tr><td style=\"text-align: right;\">    475</td><td style=\"text-align: right;\">   0.3 </td><td style=\"text-align: right;\">4.34</td><td style=\"text-align: right;\">    2</td><td style=\"text-align: right;\">      3</td><td style=\"text-align: right;\">        6</td></tr>\n",
              "<tr><td style=\"text-align: right;\">   9552</td><td style=\"text-align: right;\">   1.04</td><td style=\"text-align: right;\">6.46</td><td style=\"text-align: right;\">    2</td><td style=\"text-align: right;\">      2</td><td style=\"text-align: right;\">        3</td></tr>\n",
              "<tr><td style=\"text-align: right;\">   1276</td><td style=\"text-align: right;\">   0.65</td><td style=\"text-align: right;\">5.62</td><td style=\"text-align: right;\">    2</td><td style=\"text-align: right;\">      7</td><td style=\"text-align: right;\">        6</td></tr>\n",
              "<tr><td style=\"text-align: right;\">   3662</td><td style=\"text-align: right;\">   0.9 </td><td style=\"text-align: right;\">6.19</td><td style=\"text-align: right;\">    1</td><td style=\"text-align: right;\">      2</td><td style=\"text-align: right;\">        7</td></tr>\n",
              "<tr><td style=\"text-align: right;\">    446</td><td style=\"text-align: right;\">   0.31</td><td style=\"text-align: right;\">4.36</td><td style=\"text-align: right;\">    3</td><td style=\"text-align: right;\">      5</td><td style=\"text-align: right;\">        6</td></tr>\n",
              "<tr><td style=\"text-align: right;\">   2902</td><td style=\"text-align: right;\">   0.71</td><td style=\"text-align: right;\">5.59</td><td style=\"text-align: right;\">    5</td><td style=\"text-align: right;\">      2</td><td style=\"text-align: right;\">        5</td></tr>\n",
              "<tr><td style=\"text-align: right;\">  18193</td><td style=\"text-align: right;\">   2.05</td><td style=\"text-align: right;\">8.09</td><td style=\"text-align: right;\">    2</td><td style=\"text-align: right;\">      2</td><td style=\"text-align: right;\">        6</td></tr>\n",
              "<tr><td style=\"text-align: right;\">   4791</td><td style=\"text-align: right;\">   1.1 </td><td style=\"text-align: right;\">6.71</td><td style=\"text-align: right;\">    3</td><td style=\"text-align: right;\">      2</td><td style=\"text-align: right;\">        6</td></tr>\n",
              "</tbody>\n",
              "</table>"
            ]
          },
          "metadata": {
            "tags": []
          }
        },
        {
          "output_type": "execute_result",
          "data": {
            "text/plain": [
              ""
            ]
          },
          "metadata": {
            "tags": []
          },
          "execution_count": 2
        }
      ]
    },
    {
      "cell_type": "code",
      "metadata": {
        "id": "inWzKzgcBHl0",
        "colab_type": "code",
        "colab": {}
      },
      "source": [
        "# splits = df.split_frame(ratios = [0.8], seed = 1)\n",
        "# train = splits[0]\n",
        "# test = splits[1]"
      ],
      "execution_count": 0,
      "outputs": []
    },
    {
      "cell_type": "code",
      "metadata": {
        "id": "z5v8lGBa0sPN",
        "colab_type": "code",
        "colab": {}
      },
      "source": [
        "y = 'price'\n",
        "x = df.columns\n",
        "x.remove(y)"
      ],
      "execution_count": 0,
      "outputs": []
    },
    {
      "cell_type": "code",
      "metadata": {
        "id": "fTYOpI7Uy81N",
        "colab_type": "code",
        "outputId": "491efd2a-9c81-44dc-e0cd-a5612ca2dccb",
        "colab": {
          "base_uri": "https://localhost:8080/",
          "height": 36
        }
      },
      "source": [
        "aml = H2OAutoML(max_models=5, seed = 1, project_name = \"diamonds_lb_frame\")\n",
        "aml.train(y = y, training_frame = df)"
      ],
      "execution_count": 0,
      "outputs": [
        {
          "output_type": "stream",
          "text": [
            "AutoML progress: |██████████████████████████"
          ],
          "name": "stdout"
        }
      ]
    },
    {
      "cell_type": "code",
      "metadata": {
        "id": "fBSANdrjIana",
        "colab_type": "code",
        "colab": {}
      },
      "source": [
        "aml.leaderboard.head()"
      ],
      "execution_count": 0,
      "outputs": []
    },
    {
      "cell_type": "code",
      "metadata": {
        "id": "sJW6hT9fIt76",
        "colab_type": "code",
        "colab": {}
      },
      "source": [
        "df_test = h2o.import_file(\"https://raw.githubusercontent.com/Alejorro/Competition-MachineLearning/master/Outputs/diamonds_cleaned_test(V3).csv\")"
      ],
      "execution_count": 0,
      "outputs": []
    },
    {
      "cell_type": "code",
      "metadata": {
        "id": "-jztKbLMI8CU",
        "colab_type": "code",
        "colab": {}
      },
      "source": [
        "pred = aml.predict(df_test)\n",
        "pred.head()"
      ],
      "execution_count": 0,
      "outputs": []
    },
    {
      "cell_type": "code",
      "metadata": {
        "id": "HPqxe55xJVig",
        "colab_type": "code",
        "colab": {}
      },
      "source": [
        "price = pred.as_data_frame()\n",
        "\n",
        "price = price.rename(columns={\"predict\":\"price\"})\n",
        "price.head()"
      ],
      "execution_count": 0,
      "outputs": []
    },
    {
      "cell_type": "code",
      "metadata": {
        "id": "GqMMkAEGJkJE",
        "colab_type": "code",
        "colab": {}
      },
      "source": [
        "trained = df_test.as_data_frame()\n",
        "\n",
        "trained.head()"
      ],
      "execution_count": 0,
      "outputs": []
    },
    {
      "cell_type": "code",
      "metadata": {
        "id": "TMxQa6_3JzDE",
        "colab_type": "code",
        "colab": {}
      },
      "source": [
        "result = trained[[\"id\"]].join(price)\n",
        "\n",
        "result.head()"
      ],
      "execution_count": 0,
      "outputs": []
    },
    {
      "cell_type": "code",
      "metadata": {
        "id": "IcyrIyM6KBOj",
        "colab_type": "code",
        "colab": {}
      },
      "source": [
        "resultDef = result[[\"id\",\"price\"]]\n",
        "\n",
        "resultDef.head(2)"
      ],
      "execution_count": 0,
      "outputs": []
    },
    {
      "cell_type": "code",
      "metadata": {
        "id": "G2Ut4IZVKD4k",
        "colab_type": "code",
        "colab": {}
      },
      "source": [
        "from google.colab import files\n",
        "resultDef.to_csv(\"submission.csv\", index = False, header=True)\n",
        "files.download('submission.csv')\n",
        "\n",
        "\n"
      ],
      "execution_count": 0,
      "outputs": []
    }
  ]
}