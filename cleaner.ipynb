{
 "nbformat": 4,
 "nbformat_minor": 2,
 "metadata": {
  "language_info": {
   "name": "python",
   "codemirror_mode": {
    "name": "ipython",
    "version": 3
   },
   "version": "3.6.9-final"
  },
  "orig_nbformat": 2,
  "file_extension": ".py",
  "mimetype": "text/x-python",
  "name": "python",
  "npconvert_exporter": "python",
  "pygments_lexer": "ipython3",
  "version": 3,
  "kernelspec": {
   "name": "python36964bit393d81eb15b54b0093ea31921d80c86d",
   "display_name": "Python 3.6.9 64-bit"
  }
 },
 "cells": [
  {
   "cell_type": "markdown",
   "metadata": {},
   "source": [
    "# Competition Machine Learning"
   ]
  },
  {
   "cell_type": "markdown",
   "metadata": {},
   "source": [
    "## Importación de librerías"
   ]
  },
  {
   "cell_type": "code",
   "execution_count": 80,
   "metadata": {},
   "outputs": [],
   "source": [
    "import pandas as pd\n",
    "\n",
    "import numpy as np\n",
    "\n",
    "from sklearn.preprocessing import StandardScaler, Normalizer"
   ]
  },
  {
   "cell_type": "markdown",
   "metadata": {},
   "source": [
    "## Importación de dataset"
   ]
  },
  {
   "cell_type": "code",
   "execution_count": 81,
   "metadata": {},
   "outputs": [],
   "source": [
    "df = pd.read_csv(\"Inputs/training_dataset.csv\")"
   ]
  },
  {
   "cell_type": "code",
   "execution_count": 82,
   "metadata": {},
   "outputs": [
    {
     "data": {
      "text/html": "<div>\n<style scoped>\n    .dataframe tbody tr th:only-of-type {\n        vertical-align: middle;\n    }\n\n    .dataframe tbody tr th {\n        vertical-align: top;\n    }\n\n    .dataframe thead th {\n        text-align: right;\n    }\n</style>\n<table border=\"1\" class=\"dataframe\">\n  <thead>\n    <tr style=\"text-align: right;\">\n      <th></th>\n      <th>id</th>\n      <th>0</th>\n      <th>1</th>\n      <th>2</th>\n      <th>3</th>\n      <th>4</th>\n      <th>5</th>\n      <th>6</th>\n      <th>7</th>\n      <th>8</th>\n      <th>9</th>\n      <th>author</th>\n    </tr>\n  </thead>\n  <tbody>\n    <tr>\n      <th>0</th>\n      <td>0</td>\n      <td>0.142636</td>\n      <td>0.431070</td>\n      <td>0.032912</td>\n      <td>-0.486796</td>\n      <td>0.261718</td>\n      <td>-1.013906</td>\n      <td>-0.081827</td>\n      <td>0.330352</td>\n      <td>0.438262</td>\n      <td>-0.761088</td>\n      <td>Ubuntius</td>\n    </tr>\n    <tr>\n      <th>1</th>\n      <td>1</td>\n      <td>0.019197</td>\n      <td>0.525284</td>\n      <td>0.068476</td>\n      <td>0.166658</td>\n      <td>0.261718</td>\n      <td>0.231839</td>\n      <td>0.635431</td>\n      <td>0.133209</td>\n      <td>0.313536</td>\n      <td>-0.002374</td>\n      <td>Philippus</td>\n    </tr>\n    <tr>\n      <th>2</th>\n      <td>2</td>\n      <td>0.093260</td>\n      <td>-0.087108</td>\n      <td>-2.268081</td>\n      <td>-0.164963</td>\n      <td>0.261718</td>\n      <td>1.477585</td>\n      <td>0.635431</td>\n      <td>-0.370641</td>\n      <td>0.126447</td>\n      <td>1.078357</td>\n      <td>Marcus</td>\n    </tr>\n    <tr>\n      <th>3</th>\n      <td>3</td>\n      <td>-0.017834</td>\n      <td>-0.228430</td>\n      <td>0.370770</td>\n      <td>1.293671</td>\n      <td>0.172340</td>\n      <td>-0.058835</td>\n      <td>0.446679</td>\n      <td>1.609556</td>\n      <td>2.277968</td>\n      <td>-0.172339</td>\n      <td>Clarius</td>\n    </tr>\n    <tr>\n      <th>4</th>\n      <td>4</td>\n      <td>0.080916</td>\n      <td>-0.142067</td>\n      <td>0.171611</td>\n      <td>-0.470713</td>\n      <td>0.261718</td>\n      <td>-0.141884</td>\n      <td>-0.044076</td>\n      <td>0.375551</td>\n      <td>0.032902</td>\n      <td>0.009898</td>\n      <td>Philippus</td>\n    </tr>\n  </tbody>\n</table>\n</div>",
      "text/plain": "   id         0         1         2         3         4         5         6  \\\n0   0  0.142636  0.431070  0.032912 -0.486796  0.261718 -1.013906 -0.081827   \n1   1  0.019197  0.525284  0.068476  0.166658  0.261718  0.231839  0.635431   \n2   2  0.093260 -0.087108 -2.268081 -0.164963  0.261718  1.477585  0.635431   \n3   3 -0.017834 -0.228430  0.370770  1.293671  0.172340 -0.058835  0.446679   \n4   4  0.080916 -0.142067  0.171611 -0.470713  0.261718 -0.141884 -0.044076   \n\n          7         8         9     author  \n0  0.330352  0.438262 -0.761088   Ubuntius  \n1  0.133209  0.313536 -0.002374  Philippus  \n2 -0.370641  0.126447  1.078357     Marcus  \n3  1.609556  2.277968 -0.172339    Clarius  \n4  0.375551  0.032902  0.009898  Philippus  "
     },
     "execution_count": 82,
     "metadata": {},
     "output_type": "execute_result"
    }
   ],
   "source": [
    "df.head()"
   ]
  },
  {
   "cell_type": "markdown",
   "metadata": {},
   "source": [
    "## Exploración de datos"
   ]
  },
  {
   "cell_type": "markdown",
   "metadata": {},
   "source": [
    "**Datos faltantes**"
   ]
  },
  {
   "cell_type": "code",
   "execution_count": 83,
   "metadata": {},
   "outputs": [
    {
     "data": {
      "text/plain": "id        0\n0         0\n1         0\n2         0\n3         0\n4         0\n5         0\n6         0\n7         0\n8         0\n9         0\nauthor    0\ndtype: int64"
     },
     "execution_count": 83,
     "metadata": {},
     "output_type": "execute_result"
    }
   ],
   "source": [
    "df.isnull().sum()"
   ]
  },
  {
   "cell_type": "markdown",
   "metadata": {},
   "source": [
    "Todo correcto en este apartado"
   ]
  },
  {
   "cell_type": "markdown",
   "metadata": {},
   "source": [
    "**Correlaciones entre features**"
   ]
  },
  {
   "cell_type": "code",
   "execution_count": 84,
   "metadata": {},
   "outputs": [
    {
     "data": {
      "text/html": "<div>\n<style scoped>\n    .dataframe tbody tr th:only-of-type {\n        vertical-align: middle;\n    }\n\n    .dataframe tbody tr th {\n        vertical-align: top;\n    }\n\n    .dataframe thead th {\n        text-align: right;\n    }\n</style>\n<table border=\"1\" class=\"dataframe\">\n  <thead>\n    <tr style=\"text-align: right;\">\n      <th></th>\n      <th>id</th>\n      <th>0</th>\n      <th>1</th>\n      <th>2</th>\n      <th>3</th>\n      <th>4</th>\n      <th>5</th>\n      <th>6</th>\n      <th>7</th>\n      <th>8</th>\n      <th>9</th>\n    </tr>\n  </thead>\n  <tbody>\n    <tr>\n      <th>id</th>\n      <td>1.000000</td>\n      <td>-0.018720</td>\n      <td>-0.012011</td>\n      <td>-0.002319</td>\n      <td>0.002494</td>\n      <td>-0.012632</td>\n      <td>-0.013385</td>\n      <td>0.001252</td>\n      <td>0.000923</td>\n      <td>-0.013257</td>\n      <td>-0.010348</td>\n    </tr>\n    <tr>\n      <th>0</th>\n      <td>-0.018720</td>\n      <td>1.000000</td>\n      <td>-0.034470</td>\n      <td>0.033319</td>\n      <td>-0.048570</td>\n      <td>0.419491</td>\n      <td>-0.046590</td>\n      <td>-0.031043</td>\n      <td>-0.069932</td>\n      <td>0.077196</td>\n      <td>0.005076</td>\n    </tr>\n    <tr>\n      <th>1</th>\n      <td>-0.012011</td>\n      <td>-0.034470</td>\n      <td>1.000000</td>\n      <td>0.404319</td>\n      <td>-0.005041</td>\n      <td>-0.060451</td>\n      <td>0.394916</td>\n      <td>0.569620</td>\n      <td>0.036891</td>\n      <td>0.320835</td>\n      <td>-0.028935</td>\n    </tr>\n    <tr>\n      <th>2</th>\n      <td>-0.002319</td>\n      <td>0.033319</td>\n      <td>0.404319</td>\n      <td>1.000000</td>\n      <td>0.136911</td>\n      <td>0.004298</td>\n      <td>0.109612</td>\n      <td>0.266143</td>\n      <td>0.029505</td>\n      <td>0.164784</td>\n      <td>-0.064575</td>\n    </tr>\n    <tr>\n      <th>3</th>\n      <td>0.002494</td>\n      <td>-0.048570</td>\n      <td>-0.005041</td>\n      <td>0.136911</td>\n      <td>1.000000</td>\n      <td>0.095695</td>\n      <td>0.258998</td>\n      <td>0.064451</td>\n      <td>0.352031</td>\n      <td>0.274606</td>\n      <td>0.321449</td>\n    </tr>\n    <tr>\n      <th>4</th>\n      <td>-0.012632</td>\n      <td>0.419491</td>\n      <td>-0.060451</td>\n      <td>0.004298</td>\n      <td>0.095695</td>\n      <td>1.000000</td>\n      <td>0.047305</td>\n      <td>0.036884</td>\n      <td>-0.082471</td>\n      <td>0.285097</td>\n      <td>0.160481</td>\n    </tr>\n    <tr>\n      <th>5</th>\n      <td>-0.013385</td>\n      <td>-0.046590</td>\n      <td>0.394916</td>\n      <td>0.109612</td>\n      <td>0.258998</td>\n      <td>0.047305</td>\n      <td>1.000000</td>\n      <td>0.466022</td>\n      <td>-0.038380</td>\n      <td>0.219353</td>\n      <td>0.779156</td>\n    </tr>\n    <tr>\n      <th>6</th>\n      <td>0.001252</td>\n      <td>-0.031043</td>\n      <td>0.569620</td>\n      <td>0.266143</td>\n      <td>0.064451</td>\n      <td>0.036884</td>\n      <td>0.466022</td>\n      <td>1.000000</td>\n      <td>0.011868</td>\n      <td>0.259350</td>\n      <td>0.292490</td>\n    </tr>\n    <tr>\n      <th>7</th>\n      <td>0.000923</td>\n      <td>-0.069932</td>\n      <td>0.036891</td>\n      <td>0.029505</td>\n      <td>0.352031</td>\n      <td>-0.082471</td>\n      <td>-0.038380</td>\n      <td>0.011868</td>\n      <td>1.000000</td>\n      <td>0.493877</td>\n      <td>0.008542</td>\n    </tr>\n    <tr>\n      <th>8</th>\n      <td>-0.013257</td>\n      <td>0.077196</td>\n      <td>0.320835</td>\n      <td>0.164784</td>\n      <td>0.274606</td>\n      <td>0.285097</td>\n      <td>0.219353</td>\n      <td>0.259350</td>\n      <td>0.493877</td>\n      <td>1.000000</td>\n      <td>0.207351</td>\n    </tr>\n    <tr>\n      <th>9</th>\n      <td>-0.010348</td>\n      <td>0.005076</td>\n      <td>-0.028935</td>\n      <td>-0.064575</td>\n      <td>0.321449</td>\n      <td>0.160481</td>\n      <td>0.779156</td>\n      <td>0.292490</td>\n      <td>0.008542</td>\n      <td>0.207351</td>\n      <td>1.000000</td>\n    </tr>\n  </tbody>\n</table>\n</div>",
      "text/plain": "          id         0         1         2         3         4         5  \\\nid  1.000000 -0.018720 -0.012011 -0.002319  0.002494 -0.012632 -0.013385   \n0  -0.018720  1.000000 -0.034470  0.033319 -0.048570  0.419491 -0.046590   \n1  -0.012011 -0.034470  1.000000  0.404319 -0.005041 -0.060451  0.394916   \n2  -0.002319  0.033319  0.404319  1.000000  0.136911  0.004298  0.109612   \n3   0.002494 -0.048570 -0.005041  0.136911  1.000000  0.095695  0.258998   \n4  -0.012632  0.419491 -0.060451  0.004298  0.095695  1.000000  0.047305   \n5  -0.013385 -0.046590  0.394916  0.109612  0.258998  0.047305  1.000000   \n6   0.001252 -0.031043  0.569620  0.266143  0.064451  0.036884  0.466022   \n7   0.000923 -0.069932  0.036891  0.029505  0.352031 -0.082471 -0.038380   \n8  -0.013257  0.077196  0.320835  0.164784  0.274606  0.285097  0.219353   \n9  -0.010348  0.005076 -0.028935 -0.064575  0.321449  0.160481  0.779156   \n\n           6         7         8         9  \nid  0.001252  0.000923 -0.013257 -0.010348  \n0  -0.031043 -0.069932  0.077196  0.005076  \n1   0.569620  0.036891  0.320835 -0.028935  \n2   0.266143  0.029505  0.164784 -0.064575  \n3   0.064451  0.352031  0.274606  0.321449  \n4   0.036884 -0.082471  0.285097  0.160481  \n5   0.466022 -0.038380  0.219353  0.779156  \n6   1.000000  0.011868  0.259350  0.292490  \n7   0.011868  1.000000  0.493877  0.008542  \n8   0.259350  0.493877  1.000000  0.207351  \n9   0.292490  0.008542  0.207351  1.000000  "
     },
     "execution_count": 84,
     "metadata": {},
     "output_type": "execute_result"
    }
   ],
   "source": [
    "df.corr()"
   ]
  },
  {
   "cell_type": "markdown",
   "metadata": {},
   "source": [
    "Las features son totalmente independientes"
   ]
  },
  {
   "cell_type": "markdown",
   "metadata": {},
   "source": [
    "**Análisis de categóricas**"
   ]
  },
  {
   "cell_type": "code",
   "execution_count": 85,
   "metadata": {},
   "outputs": [
    {
     "data": {
      "text/plain": "id          int64\n0         float64\n1         float64\n2         float64\n3         float64\n4         float64\n5         float64\n6         float64\n7         float64\n8         float64\n9         float64\nauthor     object\ndtype: object"
     },
     "execution_count": 85,
     "metadata": {},
     "output_type": "execute_result"
    }
   ],
   "source": [
    "df.dtypes"
   ]
  },
  {
   "cell_type": "markdown",
   "metadata": {},
   "source": [
    "Todas las variables son numéricas"
   ]
  },
  {
   "cell_type": "markdown",
   "metadata": {},
   "source": [
    "## Borrado de columnas"
   ]
  },
  {
   "cell_type": "code",
   "execution_count": 86,
   "metadata": {},
   "outputs": [],
   "source": [
    "df.drop(columns=\"id\", axis=1, inplace=True)"
   ]
  },
  {
   "cell_type": "markdown",
   "metadata": {},
   "source": [
    "## Conversión de columnas a numéricas ordinales"
   ]
  },
  {
   "cell_type": "markdown",
   "metadata": {},
   "source": [
    "No se procede ninguna conversión"
   ]
  },
  {
   "cell_type": "markdown",
   "metadata": {},
   "source": [
    "## Conversión de categóricas a numéricas (Dummies)"
   ]
  },
  {
   "cell_type": "code",
   "execution_count": 87,
   "metadata": {},
   "outputs": [],
   "source": [
    "df = pd.get_dummies(df)"
   ]
  },
  {
   "cell_type": "markdown",
   "metadata": {},
   "source": [
    "## Normalización o estandarización"
   ]
  },
  {
   "cell_type": "markdown",
   "metadata": {},
   "source": [
    "Se realizará en el pipeline principal"
   ]
  },
  {
   "cell_type": "markdown",
   "metadata": {},
   "source": [
    "## Confirmación de cambios tras la limpieza"
   ]
  },
  {
   "cell_type": "code",
   "execution_count": null,
   "metadata": {},
   "outputs": [],
   "source": [
    "df.head()"
   ]
  }
 ]
}